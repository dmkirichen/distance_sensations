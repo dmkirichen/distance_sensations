{
 "cells": [
  {
   "cell_type": "markdown",
   "metadata": {},
   "source": [
    "# Predicting Subjective Sensations Of Distance Traveled"
   ]
  },
  {
   "cell_type": "markdown",
   "metadata": {},
   "source": [
    "**Task:** get into the subjective sensation of the user as much as possible so that he agrees with your opinion that today he went 10,000 steps and this is unusual. Or today he went 6,000 and this is quite common."
   ]
  },
  {
   "cell_type": "markdown",
   "metadata": {},
   "source": [
    "**Criterion:** getting into the expectation of the average person about the work of the \"smart\" system, which looks at its data and decides that today is an ordinary or unusual day."
   ]
  },
  {
   "cell_type": "markdown",
   "metadata": {},
   "source": [
    "**Data Description:** we have records of the steps of one person for about 3 months. Each record is a certain period of time with a known number of steps in this interval."
   ]
  },
  {
   "cell_type": "markdown",
   "metadata": {},
   "source": [
    "---"
   ]
  },
  {
   "cell_type": "markdown",
   "metadata": {},
   "source": [
    "Importing basic libraries for exploration of the data."
   ]
  },
  {
   "cell_type": "code",
   "execution_count": 1,
   "metadata": {},
   "outputs": [],
   "source": [
    "import numpy as np\n",
    "import pandas as pd\n",
    "import matplotlib\n",
    "import matplotlib.pyplot as plt\n",
    "import seaborn as sns\n",
    "%matplotlib inline\n",
    "from datetime import datetime"
   ]
  },
  {
   "cell_type": "code",
   "execution_count": 2,
   "metadata": {},
   "outputs": [],
   "source": [
    "TIME_FORMAT = \"%Y-%m-%dT%H:%M:%S%f%z\""
   ]
  },
  {
   "cell_type": "markdown",
   "metadata": {},
   "source": [
    "Getting dataset."
   ]
  },
  {
   "cell_type": "code",
   "execution_count": 3,
   "metadata": {},
   "outputs": [
    {
     "data": {
      "text/html": [
       "<div>\n",
       "<style scoped>\n",
       "    .dataframe tbody tr th:only-of-type {\n",
       "        vertical-align: middle;\n",
       "    }\n",
       "\n",
       "    .dataframe tbody tr th {\n",
       "        vertical-align: top;\n",
       "    }\n",
       "\n",
       "    .dataframe thead th {\n",
       "        text-align: right;\n",
       "    }\n",
       "</style>\n",
       "<table border=\"1\" class=\"dataframe\">\n",
       "  <thead>\n",
       "    <tr style=\"text-align: right;\">\n",
       "      <th></th>\n",
       "      <th>Time End</th>\n",
       "      <th>Time End Local Tz</th>\n",
       "      <th>Time Offset</th>\n",
       "      <th>Time Start</th>\n",
       "      <th>Time Start Local Tz</th>\n",
       "      <th>User ID</th>\n",
       "      <th>Value</th>\n",
       "    </tr>\n",
       "  </thead>\n",
       "  <tbody>\n",
       "    <tr>\n",
       "      <th>0</th>\n",
       "      <td>2019-05-05T09:40:00+03:00</td>\n",
       "      <td>2019-05-05T12:40:00+03:00</td>\n",
       "      <td>10800</td>\n",
       "      <td>2019-05-05T09:39:59+03:00</td>\n",
       "      <td>2019-05-05T12:39:59+03:00</td>\n",
       "      <td>2166</td>\n",
       "      <td>1.0</td>\n",
       "    </tr>\n",
       "    <tr>\n",
       "      <th>1</th>\n",
       "      <td>2019-05-05T11:13:29+03:00</td>\n",
       "      <td>2019-05-05T14:13:29+03:00</td>\n",
       "      <td>10800</td>\n",
       "      <td>2019-05-05T11:12:51+03:00</td>\n",
       "      <td>2019-05-05T14:12:51+03:00</td>\n",
       "      <td>2166</td>\n",
       "      <td>34.0</td>\n",
       "    </tr>\n",
       "    <tr>\n",
       "      <th>2</th>\n",
       "      <td>2019-05-05T12:07:42+03:00</td>\n",
       "      <td>2019-05-05T15:07:42+03:00</td>\n",
       "      <td>10800</td>\n",
       "      <td>2019-05-05T12:07:39+03:00</td>\n",
       "      <td>2019-05-05T15:07:39+03:00</td>\n",
       "      <td>2166</td>\n",
       "      <td>1.0</td>\n",
       "    </tr>\n",
       "    <tr>\n",
       "      <th>3</th>\n",
       "      <td>2019-05-05T13:04:05+03:00</td>\n",
       "      <td>2019-05-05T16:04:05+03:00</td>\n",
       "      <td>10800</td>\n",
       "      <td>2019-05-05T13:04:02+03:00</td>\n",
       "      <td>2019-05-05T16:04:02+03:00</td>\n",
       "      <td>2166</td>\n",
       "      <td>3.0</td>\n",
       "    </tr>\n",
       "    <tr>\n",
       "      <th>4</th>\n",
       "      <td>2019-05-05T13:18:18+03:00</td>\n",
       "      <td>2019-05-05T16:18:18+03:00</td>\n",
       "      <td>10800</td>\n",
       "      <td>2019-05-05T13:18:13+03:00</td>\n",
       "      <td>2019-05-05T16:18:13+03:00</td>\n",
       "      <td>2166</td>\n",
       "      <td>6.0</td>\n",
       "    </tr>\n",
       "  </tbody>\n",
       "</table>\n",
       "</div>"
      ],
      "text/plain": [
       "                    Time End          Time End Local Tz  Time Offset  \\\n",
       "0  2019-05-05T09:40:00+03:00  2019-05-05T12:40:00+03:00        10800   \n",
       "1  2019-05-05T11:13:29+03:00  2019-05-05T14:13:29+03:00        10800   \n",
       "2  2019-05-05T12:07:42+03:00  2019-05-05T15:07:42+03:00        10800   \n",
       "3  2019-05-05T13:04:05+03:00  2019-05-05T16:04:05+03:00        10800   \n",
       "4  2019-05-05T13:18:18+03:00  2019-05-05T16:18:18+03:00        10800   \n",
       "\n",
       "                  Time Start        Time Start Local Tz  User ID  Value  \n",
       "0  2019-05-05T09:39:59+03:00  2019-05-05T12:39:59+03:00     2166    1.0  \n",
       "1  2019-05-05T11:12:51+03:00  2019-05-05T14:12:51+03:00     2166   34.0  \n",
       "2  2019-05-05T12:07:39+03:00  2019-05-05T15:07:39+03:00     2166    1.0  \n",
       "3  2019-05-05T13:04:02+03:00  2019-05-05T16:04:02+03:00     2166    3.0  \n",
       "4  2019-05-05T13:18:13+03:00  2019-05-05T16:18:13+03:00     2166    6.0  "
      ]
     },
     "execution_count": 3,
     "metadata": {},
     "output_type": "execute_result"
    }
   ],
   "source": [
    "data = pd.read_csv(\"data.csv\")\n",
    "data.head()"
   ]
  },
  {
   "cell_type": "markdown",
   "metadata": {},
   "source": [
    "Checking if we have only one user in dataset."
   ]
  },
  {
   "cell_type": "code",
   "execution_count": 4,
   "metadata": {},
   "outputs": [
    {
     "name": "stdout",
     "output_type": "stream",
     "text": [
      "Number of users in the dataset = 1\n"
     ]
    }
   ],
   "source": [
    "print(\"Number of users in the dataset = {}\".format(len(data[\"User ID\"].unique())))"
   ]
  },
  {
   "cell_type": "markdown",
   "metadata": {},
   "source": [
    "Yes, we have only one user, so we can drop column ```User ID```."
   ]
  },
  {
   "cell_type": "code",
   "execution_count": 5,
   "metadata": {},
   "outputs": [
    {
     "data": {
      "text/html": [
       "<div>\n",
       "<style scoped>\n",
       "    .dataframe tbody tr th:only-of-type {\n",
       "        vertical-align: middle;\n",
       "    }\n",
       "\n",
       "    .dataframe tbody tr th {\n",
       "        vertical-align: top;\n",
       "    }\n",
       "\n",
       "    .dataframe thead th {\n",
       "        text-align: right;\n",
       "    }\n",
       "</style>\n",
       "<table border=\"1\" class=\"dataframe\">\n",
       "  <thead>\n",
       "    <tr style=\"text-align: right;\">\n",
       "      <th></th>\n",
       "      <th>Time End</th>\n",
       "      <th>Time End Local Tz</th>\n",
       "      <th>Time Offset</th>\n",
       "      <th>Time Start</th>\n",
       "      <th>Time Start Local Tz</th>\n",
       "      <th>Value</th>\n",
       "    </tr>\n",
       "  </thead>\n",
       "  <tbody>\n",
       "    <tr>\n",
       "      <th>0</th>\n",
       "      <td>2019-05-05T09:40:00+03:00</td>\n",
       "      <td>2019-05-05T12:40:00+03:00</td>\n",
       "      <td>10800</td>\n",
       "      <td>2019-05-05T09:39:59+03:00</td>\n",
       "      <td>2019-05-05T12:39:59+03:00</td>\n",
       "      <td>1.0</td>\n",
       "    </tr>\n",
       "    <tr>\n",
       "      <th>1</th>\n",
       "      <td>2019-05-05T11:13:29+03:00</td>\n",
       "      <td>2019-05-05T14:13:29+03:00</td>\n",
       "      <td>10800</td>\n",
       "      <td>2019-05-05T11:12:51+03:00</td>\n",
       "      <td>2019-05-05T14:12:51+03:00</td>\n",
       "      <td>34.0</td>\n",
       "    </tr>\n",
       "    <tr>\n",
       "      <th>2</th>\n",
       "      <td>2019-05-05T12:07:42+03:00</td>\n",
       "      <td>2019-05-05T15:07:42+03:00</td>\n",
       "      <td>10800</td>\n",
       "      <td>2019-05-05T12:07:39+03:00</td>\n",
       "      <td>2019-05-05T15:07:39+03:00</td>\n",
       "      <td>1.0</td>\n",
       "    </tr>\n",
       "    <tr>\n",
       "      <th>3</th>\n",
       "      <td>2019-05-05T13:04:05+03:00</td>\n",
       "      <td>2019-05-05T16:04:05+03:00</td>\n",
       "      <td>10800</td>\n",
       "      <td>2019-05-05T13:04:02+03:00</td>\n",
       "      <td>2019-05-05T16:04:02+03:00</td>\n",
       "      <td>3.0</td>\n",
       "    </tr>\n",
       "    <tr>\n",
       "      <th>4</th>\n",
       "      <td>2019-05-05T13:18:18+03:00</td>\n",
       "      <td>2019-05-05T16:18:18+03:00</td>\n",
       "      <td>10800</td>\n",
       "      <td>2019-05-05T13:18:13+03:00</td>\n",
       "      <td>2019-05-05T16:18:13+03:00</td>\n",
       "      <td>6.0</td>\n",
       "    </tr>\n",
       "  </tbody>\n",
       "</table>\n",
       "</div>"
      ],
      "text/plain": [
       "                    Time End          Time End Local Tz  Time Offset  \\\n",
       "0  2019-05-05T09:40:00+03:00  2019-05-05T12:40:00+03:00        10800   \n",
       "1  2019-05-05T11:13:29+03:00  2019-05-05T14:13:29+03:00        10800   \n",
       "2  2019-05-05T12:07:42+03:00  2019-05-05T15:07:42+03:00        10800   \n",
       "3  2019-05-05T13:04:05+03:00  2019-05-05T16:04:05+03:00        10800   \n",
       "4  2019-05-05T13:18:18+03:00  2019-05-05T16:18:18+03:00        10800   \n",
       "\n",
       "                  Time Start        Time Start Local Tz  Value  \n",
       "0  2019-05-05T09:39:59+03:00  2019-05-05T12:39:59+03:00    1.0  \n",
       "1  2019-05-05T11:12:51+03:00  2019-05-05T14:12:51+03:00   34.0  \n",
       "2  2019-05-05T12:07:39+03:00  2019-05-05T15:07:39+03:00    1.0  \n",
       "3  2019-05-05T13:04:02+03:00  2019-05-05T16:04:02+03:00    3.0  \n",
       "4  2019-05-05T13:18:13+03:00  2019-05-05T16:18:13+03:00    6.0  "
      ]
     },
     "execution_count": 5,
     "metadata": {},
     "output_type": "execute_result"
    }
   ],
   "source": [
    "data = data.drop(\"User ID\", axis = 1)\n",
    "data.head()"
   ]
  },
  {
   "cell_type": "markdown",
   "metadata": {},
   "source": [
    "Also, we can see that there are two pairs of columns that depict the same information.\n",
    "\n",
    "They are ``Time End`` ~ ```Time End Local Tz``` and ```Time Start``` ~ ```Time Start Local Tz``` pairs.\n",
    "\n",
    "So, it makes sense to me that we should get rid of one of the column in every pair."
   ]
  },
  {
   "cell_type": "code",
   "execution_count": 6,
   "metadata": {},
   "outputs": [
    {
     "data": {
      "text/html": [
       "<div>\n",
       "<style scoped>\n",
       "    .dataframe tbody tr th:only-of-type {\n",
       "        vertical-align: middle;\n",
       "    }\n",
       "\n",
       "    .dataframe tbody tr th {\n",
       "        vertical-align: top;\n",
       "    }\n",
       "\n",
       "    .dataframe thead th {\n",
       "        text-align: right;\n",
       "    }\n",
       "</style>\n",
       "<table border=\"1\" class=\"dataframe\">\n",
       "  <thead>\n",
       "    <tr style=\"text-align: right;\">\n",
       "      <th></th>\n",
       "      <th>Time End</th>\n",
       "      <th>Time Offset</th>\n",
       "      <th>Time Start</th>\n",
       "      <th>Value</th>\n",
       "    </tr>\n",
       "  </thead>\n",
       "  <tbody>\n",
       "    <tr>\n",
       "      <th>0</th>\n",
       "      <td>2019-05-05T09:40:00+03:00</td>\n",
       "      <td>10800</td>\n",
       "      <td>2019-05-05T09:39:59+03:00</td>\n",
       "      <td>1.0</td>\n",
       "    </tr>\n",
       "    <tr>\n",
       "      <th>1</th>\n",
       "      <td>2019-05-05T11:13:29+03:00</td>\n",
       "      <td>10800</td>\n",
       "      <td>2019-05-05T11:12:51+03:00</td>\n",
       "      <td>34.0</td>\n",
       "    </tr>\n",
       "    <tr>\n",
       "      <th>2</th>\n",
       "      <td>2019-05-05T12:07:42+03:00</td>\n",
       "      <td>10800</td>\n",
       "      <td>2019-05-05T12:07:39+03:00</td>\n",
       "      <td>1.0</td>\n",
       "    </tr>\n",
       "    <tr>\n",
       "      <th>3</th>\n",
       "      <td>2019-05-05T13:04:05+03:00</td>\n",
       "      <td>10800</td>\n",
       "      <td>2019-05-05T13:04:02+03:00</td>\n",
       "      <td>3.0</td>\n",
       "    </tr>\n",
       "    <tr>\n",
       "      <th>4</th>\n",
       "      <td>2019-05-05T13:18:18+03:00</td>\n",
       "      <td>10800</td>\n",
       "      <td>2019-05-05T13:18:13+03:00</td>\n",
       "      <td>6.0</td>\n",
       "    </tr>\n",
       "  </tbody>\n",
       "</table>\n",
       "</div>"
      ],
      "text/plain": [
       "                    Time End  Time Offset                 Time Start  Value\n",
       "0  2019-05-05T09:40:00+03:00        10800  2019-05-05T09:39:59+03:00    1.0\n",
       "1  2019-05-05T11:13:29+03:00        10800  2019-05-05T11:12:51+03:00   34.0\n",
       "2  2019-05-05T12:07:42+03:00        10800  2019-05-05T12:07:39+03:00    1.0\n",
       "3  2019-05-05T13:04:05+03:00        10800  2019-05-05T13:04:02+03:00    3.0\n",
       "4  2019-05-05T13:18:18+03:00        10800  2019-05-05T13:18:13+03:00    6.0"
      ]
     },
     "execution_count": 6,
     "metadata": {},
     "output_type": "execute_result"
    }
   ],
   "source": [
    "data = data[data.columns.difference([\"Time End Local Tz\", \"Time Start Local Tz\"])]\n",
    "data.head()"
   ]
  },
  {
   "cell_type": "markdown",
   "metadata": {},
   "source": [
    "Also, we have remaining columns in datetime format, so we can convert them for better use."
   ]
  },
  {
   "cell_type": "code",
   "execution_count": 7,
   "metadata": {},
   "outputs": [
    {
     "data": {
      "text/html": [
       "<div>\n",
       "<style scoped>\n",
       "    .dataframe tbody tr th:only-of-type {\n",
       "        vertical-align: middle;\n",
       "    }\n",
       "\n",
       "    .dataframe tbody tr th {\n",
       "        vertical-align: top;\n",
       "    }\n",
       "\n",
       "    .dataframe thead th {\n",
       "        text-align: right;\n",
       "    }\n",
       "</style>\n",
       "<table border=\"1\" class=\"dataframe\">\n",
       "  <thead>\n",
       "    <tr style=\"text-align: right;\">\n",
       "      <th></th>\n",
       "      <th>Time End</th>\n",
       "      <th>Time Offset</th>\n",
       "      <th>Time Start</th>\n",
       "      <th>Value</th>\n",
       "    </tr>\n",
       "  </thead>\n",
       "  <tbody>\n",
       "    <tr>\n",
       "      <th>0</th>\n",
       "      <td>2019-05-05 09:40:00+03:00</td>\n",
       "      <td>10800</td>\n",
       "      <td>2019-05-05 09:39:59+03:00</td>\n",
       "      <td>1.0</td>\n",
       "    </tr>\n",
       "    <tr>\n",
       "      <th>1</th>\n",
       "      <td>2019-05-05 11:13:29+03:00</td>\n",
       "      <td>10800</td>\n",
       "      <td>2019-05-05 11:12:51+03:00</td>\n",
       "      <td>34.0</td>\n",
       "    </tr>\n",
       "    <tr>\n",
       "      <th>2</th>\n",
       "      <td>2019-05-05 12:07:42+03:00</td>\n",
       "      <td>10800</td>\n",
       "      <td>2019-05-05 12:07:39+03:00</td>\n",
       "      <td>1.0</td>\n",
       "    </tr>\n",
       "    <tr>\n",
       "      <th>3</th>\n",
       "      <td>2019-05-05 13:04:05+03:00</td>\n",
       "      <td>10800</td>\n",
       "      <td>2019-05-05 13:04:02+03:00</td>\n",
       "      <td>3.0</td>\n",
       "    </tr>\n",
       "    <tr>\n",
       "      <th>4</th>\n",
       "      <td>2019-05-05 13:18:18+03:00</td>\n",
       "      <td>10800</td>\n",
       "      <td>2019-05-05 13:18:13+03:00</td>\n",
       "      <td>6.0</td>\n",
       "    </tr>\n",
       "  </tbody>\n",
       "</table>\n",
       "</div>"
      ],
      "text/plain": [
       "                   Time End  Time Offset                Time Start  Value\n",
       "0 2019-05-05 09:40:00+03:00        10800 2019-05-05 09:39:59+03:00    1.0\n",
       "1 2019-05-05 11:13:29+03:00        10800 2019-05-05 11:12:51+03:00   34.0\n",
       "2 2019-05-05 12:07:42+03:00        10800 2019-05-05 12:07:39+03:00    1.0\n",
       "3 2019-05-05 13:04:05+03:00        10800 2019-05-05 13:04:02+03:00    3.0\n",
       "4 2019-05-05 13:18:18+03:00        10800 2019-05-05 13:18:13+03:00    6.0"
      ]
     },
     "execution_count": 7,
     "metadata": {},
     "output_type": "execute_result"
    }
   ],
   "source": [
    "data[\"Time End\"] = pd.to_datetime(data[\"Time End\"])\n",
    "data[\"Time Start\"] = pd.to_datetime(data[\"Time Start\"])\n",
    "data.head()"
   ]
  },
  {
   "cell_type": "markdown",
   "metadata": {},
   "source": [
    "Besides, ```Time Offset``` variable shows us timezone in seconds, so we won't get any new useful information from here."
   ]
  },
  {
   "cell_type": "code",
   "execution_count": 8,
   "metadata": {},
   "outputs": [
    {
     "data": {
      "text/html": [
       "<div>\n",
       "<style scoped>\n",
       "    .dataframe tbody tr th:only-of-type {\n",
       "        vertical-align: middle;\n",
       "    }\n",
       "\n",
       "    .dataframe tbody tr th {\n",
       "        vertical-align: top;\n",
       "    }\n",
       "\n",
       "    .dataframe thead th {\n",
       "        text-align: right;\n",
       "    }\n",
       "</style>\n",
       "<table border=\"1\" class=\"dataframe\">\n",
       "  <thead>\n",
       "    <tr style=\"text-align: right;\">\n",
       "      <th></th>\n",
       "      <th>Time End</th>\n",
       "      <th>Time Start</th>\n",
       "      <th>Value</th>\n",
       "    </tr>\n",
       "  </thead>\n",
       "  <tbody>\n",
       "    <tr>\n",
       "      <th>0</th>\n",
       "      <td>2019-05-05 09:40:00+03:00</td>\n",
       "      <td>2019-05-05 09:39:59+03:00</td>\n",
       "      <td>1.0</td>\n",
       "    </tr>\n",
       "    <tr>\n",
       "      <th>1</th>\n",
       "      <td>2019-05-05 11:13:29+03:00</td>\n",
       "      <td>2019-05-05 11:12:51+03:00</td>\n",
       "      <td>34.0</td>\n",
       "    </tr>\n",
       "    <tr>\n",
       "      <th>2</th>\n",
       "      <td>2019-05-05 12:07:42+03:00</td>\n",
       "      <td>2019-05-05 12:07:39+03:00</td>\n",
       "      <td>1.0</td>\n",
       "    </tr>\n",
       "    <tr>\n",
       "      <th>3</th>\n",
       "      <td>2019-05-05 13:04:05+03:00</td>\n",
       "      <td>2019-05-05 13:04:02+03:00</td>\n",
       "      <td>3.0</td>\n",
       "    </tr>\n",
       "    <tr>\n",
       "      <th>4</th>\n",
       "      <td>2019-05-05 13:18:18+03:00</td>\n",
       "      <td>2019-05-05 13:18:13+03:00</td>\n",
       "      <td>6.0</td>\n",
       "    </tr>\n",
       "  </tbody>\n",
       "</table>\n",
       "</div>"
      ],
      "text/plain": [
       "                   Time End                Time Start  Value\n",
       "0 2019-05-05 09:40:00+03:00 2019-05-05 09:39:59+03:00    1.0\n",
       "1 2019-05-05 11:13:29+03:00 2019-05-05 11:12:51+03:00   34.0\n",
       "2 2019-05-05 12:07:42+03:00 2019-05-05 12:07:39+03:00    1.0\n",
       "3 2019-05-05 13:04:05+03:00 2019-05-05 13:04:02+03:00    3.0\n",
       "4 2019-05-05 13:18:18+03:00 2019-05-05 13:18:13+03:00    6.0"
      ]
     },
     "execution_count": 8,
     "metadata": {},
     "output_type": "execute_result"
    }
   ],
   "source": [
    "data = data.drop(\"Time Offset\", axis = 1)\n",
    "data.head()"
   ]
  },
  {
   "cell_type": "markdown",
   "metadata": {},
   "source": [
    "It makes sense, to split datetime into different columns for better exploration."
   ]
  },
  {
   "cell_type": "code",
   "execution_count": 9,
   "metadata": {},
   "outputs": [
    {
     "data": {
      "text/html": [
       "<div>\n",
       "<style scoped>\n",
       "    .dataframe tbody tr th:only-of-type {\n",
       "        vertical-align: middle;\n",
       "    }\n",
       "\n",
       "    .dataframe tbody tr th {\n",
       "        vertical-align: top;\n",
       "    }\n",
       "\n",
       "    .dataframe thead th {\n",
       "        text-align: right;\n",
       "    }\n",
       "</style>\n",
       "<table border=\"1\" class=\"dataframe\">\n",
       "  <thead>\n",
       "    <tr style=\"text-align: right;\">\n",
       "      <th></th>\n",
       "      <th>date_start</th>\n",
       "      <th>time_start</th>\n",
       "      <th>date_end</th>\n",
       "      <th>time_end</th>\n",
       "      <th>value</th>\n",
       "    </tr>\n",
       "  </thead>\n",
       "  <tbody>\n",
       "    <tr>\n",
       "      <th>0</th>\n",
       "      <td>2019-05-05</td>\n",
       "      <td>09:39:59</td>\n",
       "      <td>2019-05-05</td>\n",
       "      <td>09:40:00</td>\n",
       "      <td>1.0</td>\n",
       "    </tr>\n",
       "    <tr>\n",
       "      <th>1</th>\n",
       "      <td>2019-05-05</td>\n",
       "      <td>11:12:51</td>\n",
       "      <td>2019-05-05</td>\n",
       "      <td>11:13:29</td>\n",
       "      <td>34.0</td>\n",
       "    </tr>\n",
       "    <tr>\n",
       "      <th>2</th>\n",
       "      <td>2019-05-05</td>\n",
       "      <td>12:07:39</td>\n",
       "      <td>2019-05-05</td>\n",
       "      <td>12:07:42</td>\n",
       "      <td>1.0</td>\n",
       "    </tr>\n",
       "    <tr>\n",
       "      <th>3</th>\n",
       "      <td>2019-05-05</td>\n",
       "      <td>13:04:02</td>\n",
       "      <td>2019-05-05</td>\n",
       "      <td>13:04:05</td>\n",
       "      <td>3.0</td>\n",
       "    </tr>\n",
       "    <tr>\n",
       "      <th>4</th>\n",
       "      <td>2019-05-05</td>\n",
       "      <td>13:18:13</td>\n",
       "      <td>2019-05-05</td>\n",
       "      <td>13:18:18</td>\n",
       "      <td>6.0</td>\n",
       "    </tr>\n",
       "  </tbody>\n",
       "</table>\n",
       "</div>"
      ],
      "text/plain": [
       "   date_start time_start    date_end  time_end  value\n",
       "0  2019-05-05   09:39:59  2019-05-05  09:40:00    1.0\n",
       "1  2019-05-05   11:12:51  2019-05-05  11:13:29   34.0\n",
       "2  2019-05-05   12:07:39  2019-05-05  12:07:42    1.0\n",
       "3  2019-05-05   13:04:02  2019-05-05  13:04:05    3.0\n",
       "4  2019-05-05   13:18:13  2019-05-05  13:18:18    6.0"
      ]
     },
     "execution_count": 9,
     "metadata": {},
     "output_type": "execute_result"
    }
   ],
   "source": [
    "date_end = data.apply(lambda row: row[\"Time End\"].date(), axis=1)\n",
    "time_end = data.apply(lambda row: row[\"Time End\"].time(), axis=1)\n",
    "date_start = data.apply(lambda row: row[\"Time Start\"].date(), axis=1)\n",
    "time_start = data.apply(lambda row: row[\"Time Start\"].time(), axis=1)\n",
    "vals = data[\"Value\"]\n",
    "\n",
    "data = pd.DataFrame({\"date_start\": date_start, \"time_start\": time_start, \"date_end\": date_end, \"time_end\": time_end, \"value\": vals})\n",
    "data.head()"
   ]
  },
  {
   "cell_type": "code",
   "execution_count": null,
   "metadata": {},
   "outputs": [],
   "source": []
  }
 ],
 "metadata": {
  "kernelspec": {
   "display_name": "Python 3",
   "language": "python",
   "name": "python3"
  },
  "language_info": {
   "codemirror_mode": {
    "name": "ipython",
    "version": 3
   },
   "file_extension": ".py",
   "mimetype": "text/x-python",
   "name": "python",
   "nbconvert_exporter": "python",
   "pygments_lexer": "ipython3",
   "version": "3.7.3"
  }
 },
 "nbformat": 4,
 "nbformat_minor": 2
}
