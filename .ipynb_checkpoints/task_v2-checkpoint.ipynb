{
 "cells": [
  {
   "cell_type": "markdown",
   "metadata": {},
   "source": [
    "# Predicting Subjective Sensations Of Distance Traveled"
   ]
  },
  {
   "cell_type": "markdown",
   "metadata": {},
   "source": [
    "**Task:** get into the subjective sensation of the user as much as possible so that he agrees with your opinion that today he went 10,000 steps and this is unusual. Or today he went 6,000 and this is quite common."
   ]
  },
  {
   "cell_type": "markdown",
   "metadata": {},
   "source": [
    "**Criterion:** getting into the expectation of the average person about the work of the \"smart\" system, which looks at its data and decides that today is an ordinary or unusual day."
   ]
  },
  {
   "cell_type": "markdown",
   "metadata": {},
   "source": [
    "**Data Description:** we have records of the steps of one person for about 3 months. Each record is a certain period of time with a known number of steps in this interval."
   ]
  },
  {
   "cell_type": "markdown",
   "metadata": {},
   "source": [
    "---"
   ]
  },
  {
   "cell_type": "markdown",
   "metadata": {},
   "source": [
    "## Problem Analysis"
   ]
  },
  {
   "cell_type": "markdown",
   "metadata": {},
   "source": [
    "To start with I will group number of steps by the starting date.\n",
    "\n",
    "We need to classify all the days by their __\"usuality\"__. We have only two states of each day: _\"normal\"_ and _\"unusual\"_. \n",
    "\n",
    "Also, we do not have initial answers of which days to consider _\"unusual\"_, so for this problem we should use __unsupervised__ learning methods.\n",
    "\n",
    "Our output labels are mutually exclusive (one day cannot be \"normal\" and \"unusual\" at the same time).\n",
    "\n",
    "So, our only choice is to use one of the __exclusive clustering__ algorithms.'\n",
    "\n",
    "Let's try to solve the problem with simple **k-means clustering**.\n",
    "\n",
    "We will try to get results from multiple models and then choose the best one.\n",
    "\n",
    "**Hypothesis 1**: we should use k-means with 2 clusters, because we have only 2 classes - ```normal``` and ```not normal```.\n",
    "\n",
    "**Hypothesis 2**: we should use k-means with 3 clusters, because we could have 3 classes, which correspond to ```not normal [very low]```, ```normal```, ```not normal [very high]``` amount of distance traveled.\n",
    "\n",
    "**Hypothesis 3**: we should use k-means with 5 clusters, because we could have 5 classes, which correspond to ```not normal [very low]```, ```normal low```, ```normal mid```, ```normal high```, ```not normal [very high]``` amount of distance traveled."
   ]
  },
  {
   "cell_type": "markdown",
   "metadata": {},
   "source": [
    "---"
   ]
  },
  {
   "cell_type": "markdown",
   "metadata": {},
   "source": [
    "## Extracting and Transforming Data"
   ]
  },
  {
   "cell_type": "markdown",
   "metadata": {},
   "source": [
    "Importing basic libraries for exploration of the data."
   ]
  },
  {
   "cell_type": "code",
   "execution_count": 1,
   "metadata": {},
   "outputs": [],
   "source": [
    "import numpy as np\n",
    "import pandas as pd\n",
    "import matplotlib\n",
    "import matplotlib.pyplot as plt\n",
    "import seaborn as sns\n",
    "%matplotlib inline\n",
    "from datetime import datetime"
   ]
  },
  {
   "cell_type": "code",
   "execution_count": 2,
   "metadata": {},
   "outputs": [],
   "source": [
    "TIME_FORMAT = \"%Y-%m-%dT%H:%M:%S%f%z\""
   ]
  },
  {
   "cell_type": "markdown",
   "metadata": {},
   "source": [
    "Getting dataset."
   ]
  },
  {
   "cell_type": "code",
   "execution_count": 3,
   "metadata": {},
   "outputs": [
    {
     "data": {
      "text/html": [
       "<div>\n",
       "<style scoped>\n",
       "    .dataframe tbody tr th:only-of-type {\n",
       "        vertical-align: middle;\n",
       "    }\n",
       "\n",
       "    .dataframe tbody tr th {\n",
       "        vertical-align: top;\n",
       "    }\n",
       "\n",
       "    .dataframe thead th {\n",
       "        text-align: right;\n",
       "    }\n",
       "</style>\n",
       "<table border=\"1\" class=\"dataframe\">\n",
       "  <thead>\n",
       "    <tr style=\"text-align: right;\">\n",
       "      <th></th>\n",
       "      <th>Time End</th>\n",
       "      <th>Time End Local Tz</th>\n",
       "      <th>Time Offset</th>\n",
       "      <th>Time Start</th>\n",
       "      <th>Time Start Local Tz</th>\n",
       "      <th>User ID</th>\n",
       "      <th>Value</th>\n",
       "    </tr>\n",
       "  </thead>\n",
       "  <tbody>\n",
       "    <tr>\n",
       "      <th>0</th>\n",
       "      <td>2019-05-05T09:40:00+03:00</td>\n",
       "      <td>2019-05-05T12:40:00+03:00</td>\n",
       "      <td>10800</td>\n",
       "      <td>2019-05-05T09:39:59+03:00</td>\n",
       "      <td>2019-05-05T12:39:59+03:00</td>\n",
       "      <td>2166</td>\n",
       "      <td>1.0</td>\n",
       "    </tr>\n",
       "    <tr>\n",
       "      <th>1</th>\n",
       "      <td>2019-05-05T11:13:29+03:00</td>\n",
       "      <td>2019-05-05T14:13:29+03:00</td>\n",
       "      <td>10800</td>\n",
       "      <td>2019-05-05T11:12:51+03:00</td>\n",
       "      <td>2019-05-05T14:12:51+03:00</td>\n",
       "      <td>2166</td>\n",
       "      <td>34.0</td>\n",
       "    </tr>\n",
       "    <tr>\n",
       "      <th>2</th>\n",
       "      <td>2019-05-05T12:07:42+03:00</td>\n",
       "      <td>2019-05-05T15:07:42+03:00</td>\n",
       "      <td>10800</td>\n",
       "      <td>2019-05-05T12:07:39+03:00</td>\n",
       "      <td>2019-05-05T15:07:39+03:00</td>\n",
       "      <td>2166</td>\n",
       "      <td>1.0</td>\n",
       "    </tr>\n",
       "    <tr>\n",
       "      <th>3</th>\n",
       "      <td>2019-05-05T13:04:05+03:00</td>\n",
       "      <td>2019-05-05T16:04:05+03:00</td>\n",
       "      <td>10800</td>\n",
       "      <td>2019-05-05T13:04:02+03:00</td>\n",
       "      <td>2019-05-05T16:04:02+03:00</td>\n",
       "      <td>2166</td>\n",
       "      <td>3.0</td>\n",
       "    </tr>\n",
       "    <tr>\n",
       "      <th>4</th>\n",
       "      <td>2019-05-05T13:18:18+03:00</td>\n",
       "      <td>2019-05-05T16:18:18+03:00</td>\n",
       "      <td>10800</td>\n",
       "      <td>2019-05-05T13:18:13+03:00</td>\n",
       "      <td>2019-05-05T16:18:13+03:00</td>\n",
       "      <td>2166</td>\n",
       "      <td>6.0</td>\n",
       "    </tr>\n",
       "  </tbody>\n",
       "</table>\n",
       "</div>"
      ],
      "text/plain": [
       "                    Time End          Time End Local Tz  Time Offset  \\\n",
       "0  2019-05-05T09:40:00+03:00  2019-05-05T12:40:00+03:00        10800   \n",
       "1  2019-05-05T11:13:29+03:00  2019-05-05T14:13:29+03:00        10800   \n",
       "2  2019-05-05T12:07:42+03:00  2019-05-05T15:07:42+03:00        10800   \n",
       "3  2019-05-05T13:04:05+03:00  2019-05-05T16:04:05+03:00        10800   \n",
       "4  2019-05-05T13:18:18+03:00  2019-05-05T16:18:18+03:00        10800   \n",
       "\n",
       "                  Time Start        Time Start Local Tz  User ID  Value  \n",
       "0  2019-05-05T09:39:59+03:00  2019-05-05T12:39:59+03:00     2166    1.0  \n",
       "1  2019-05-05T11:12:51+03:00  2019-05-05T14:12:51+03:00     2166   34.0  \n",
       "2  2019-05-05T12:07:39+03:00  2019-05-05T15:07:39+03:00     2166    1.0  \n",
       "3  2019-05-05T13:04:02+03:00  2019-05-05T16:04:02+03:00     2166    3.0  \n",
       "4  2019-05-05T13:18:13+03:00  2019-05-05T16:18:13+03:00     2166    6.0  "
      ]
     },
     "execution_count": 3,
     "metadata": {},
     "output_type": "execute_result"
    }
   ],
   "source": [
    "data = pd.read_csv(\"data.csv\")\n",
    "data.head()"
   ]
  },
  {
   "cell_type": "markdown",
   "metadata": {},
   "source": [
    "Checking if we have only one user in dataset."
   ]
  },
  {
   "cell_type": "code",
   "execution_count": 4,
   "metadata": {},
   "outputs": [
    {
     "name": "stdout",
     "output_type": "stream",
     "text": [
      "Number of users in the dataset = 1\n"
     ]
    }
   ],
   "source": [
    "print(\"Number of users in the dataset = {}\".format(len(data[\"User ID\"].unique())))"
   ]
  },
  {
   "cell_type": "markdown",
   "metadata": {},
   "source": [
    "Yes, we have only one user, so we can drop column ```User ID```."
   ]
  },
  {
   "cell_type": "code",
   "execution_count": 5,
   "metadata": {},
   "outputs": [
    {
     "data": {
      "text/html": [
       "<div>\n",
       "<style scoped>\n",
       "    .dataframe tbody tr th:only-of-type {\n",
       "        vertical-align: middle;\n",
       "    }\n",
       "\n",
       "    .dataframe tbody tr th {\n",
       "        vertical-align: top;\n",
       "    }\n",
       "\n",
       "    .dataframe thead th {\n",
       "        text-align: right;\n",
       "    }\n",
       "</style>\n",
       "<table border=\"1\" class=\"dataframe\">\n",
       "  <thead>\n",
       "    <tr style=\"text-align: right;\">\n",
       "      <th></th>\n",
       "      <th>Time End</th>\n",
       "      <th>Time End Local Tz</th>\n",
       "      <th>Time Offset</th>\n",
       "      <th>Time Start</th>\n",
       "      <th>Time Start Local Tz</th>\n",
       "      <th>Value</th>\n",
       "    </tr>\n",
       "  </thead>\n",
       "  <tbody>\n",
       "    <tr>\n",
       "      <th>0</th>\n",
       "      <td>2019-05-05T09:40:00+03:00</td>\n",
       "      <td>2019-05-05T12:40:00+03:00</td>\n",
       "      <td>10800</td>\n",
       "      <td>2019-05-05T09:39:59+03:00</td>\n",
       "      <td>2019-05-05T12:39:59+03:00</td>\n",
       "      <td>1.0</td>\n",
       "    </tr>\n",
       "    <tr>\n",
       "      <th>1</th>\n",
       "      <td>2019-05-05T11:13:29+03:00</td>\n",
       "      <td>2019-05-05T14:13:29+03:00</td>\n",
       "      <td>10800</td>\n",
       "      <td>2019-05-05T11:12:51+03:00</td>\n",
       "      <td>2019-05-05T14:12:51+03:00</td>\n",
       "      <td>34.0</td>\n",
       "    </tr>\n",
       "    <tr>\n",
       "      <th>2</th>\n",
       "      <td>2019-05-05T12:07:42+03:00</td>\n",
       "      <td>2019-05-05T15:07:42+03:00</td>\n",
       "      <td>10800</td>\n",
       "      <td>2019-05-05T12:07:39+03:00</td>\n",
       "      <td>2019-05-05T15:07:39+03:00</td>\n",
       "      <td>1.0</td>\n",
       "    </tr>\n",
       "    <tr>\n",
       "      <th>3</th>\n",
       "      <td>2019-05-05T13:04:05+03:00</td>\n",
       "      <td>2019-05-05T16:04:05+03:00</td>\n",
       "      <td>10800</td>\n",
       "      <td>2019-05-05T13:04:02+03:00</td>\n",
       "      <td>2019-05-05T16:04:02+03:00</td>\n",
       "      <td>3.0</td>\n",
       "    </tr>\n",
       "    <tr>\n",
       "      <th>4</th>\n",
       "      <td>2019-05-05T13:18:18+03:00</td>\n",
       "      <td>2019-05-05T16:18:18+03:00</td>\n",
       "      <td>10800</td>\n",
       "      <td>2019-05-05T13:18:13+03:00</td>\n",
       "      <td>2019-05-05T16:18:13+03:00</td>\n",
       "      <td>6.0</td>\n",
       "    </tr>\n",
       "  </tbody>\n",
       "</table>\n",
       "</div>"
      ],
      "text/plain": [
       "                    Time End          Time End Local Tz  Time Offset  \\\n",
       "0  2019-05-05T09:40:00+03:00  2019-05-05T12:40:00+03:00        10800   \n",
       "1  2019-05-05T11:13:29+03:00  2019-05-05T14:13:29+03:00        10800   \n",
       "2  2019-05-05T12:07:42+03:00  2019-05-05T15:07:42+03:00        10800   \n",
       "3  2019-05-05T13:04:05+03:00  2019-05-05T16:04:05+03:00        10800   \n",
       "4  2019-05-05T13:18:18+03:00  2019-05-05T16:18:18+03:00        10800   \n",
       "\n",
       "                  Time Start        Time Start Local Tz  Value  \n",
       "0  2019-05-05T09:39:59+03:00  2019-05-05T12:39:59+03:00    1.0  \n",
       "1  2019-05-05T11:12:51+03:00  2019-05-05T14:12:51+03:00   34.0  \n",
       "2  2019-05-05T12:07:39+03:00  2019-05-05T15:07:39+03:00    1.0  \n",
       "3  2019-05-05T13:04:02+03:00  2019-05-05T16:04:02+03:00    3.0  \n",
       "4  2019-05-05T13:18:13+03:00  2019-05-05T16:18:13+03:00    6.0  "
      ]
     },
     "execution_count": 5,
     "metadata": {},
     "output_type": "execute_result"
    }
   ],
   "source": [
    "data = data.drop(\"User ID\", axis = 1)\n",
    "data.head()"
   ]
  },
  {
   "cell_type": "markdown",
   "metadata": {},
   "source": [
    "Also, we can see that there are two pairs of columns that depict the same information.\n",
    "\n",
    "They are ``Time End`` ~ ```Time End Local Tz``` and ```Time Start``` ~ ```Time Start Local Tz``` pairs.\n",
    "\n",
    "So, it makes sense to me that we should get rid of one of the column in every pair."
   ]
  },
  {
   "cell_type": "code",
   "execution_count": 6,
   "metadata": {},
   "outputs": [
    {
     "data": {
      "text/html": [
       "<div>\n",
       "<style scoped>\n",
       "    .dataframe tbody tr th:only-of-type {\n",
       "        vertical-align: middle;\n",
       "    }\n",
       "\n",
       "    .dataframe tbody tr th {\n",
       "        vertical-align: top;\n",
       "    }\n",
       "\n",
       "    .dataframe thead th {\n",
       "        text-align: right;\n",
       "    }\n",
       "</style>\n",
       "<table border=\"1\" class=\"dataframe\">\n",
       "  <thead>\n",
       "    <tr style=\"text-align: right;\">\n",
       "      <th></th>\n",
       "      <th>Time End</th>\n",
       "      <th>Time Offset</th>\n",
       "      <th>Time Start</th>\n",
       "      <th>Value</th>\n",
       "    </tr>\n",
       "  </thead>\n",
       "  <tbody>\n",
       "    <tr>\n",
       "      <th>0</th>\n",
       "      <td>2019-05-05T09:40:00+03:00</td>\n",
       "      <td>10800</td>\n",
       "      <td>2019-05-05T09:39:59+03:00</td>\n",
       "      <td>1.0</td>\n",
       "    </tr>\n",
       "    <tr>\n",
       "      <th>1</th>\n",
       "      <td>2019-05-05T11:13:29+03:00</td>\n",
       "      <td>10800</td>\n",
       "      <td>2019-05-05T11:12:51+03:00</td>\n",
       "      <td>34.0</td>\n",
       "    </tr>\n",
       "    <tr>\n",
       "      <th>2</th>\n",
       "      <td>2019-05-05T12:07:42+03:00</td>\n",
       "      <td>10800</td>\n",
       "      <td>2019-05-05T12:07:39+03:00</td>\n",
       "      <td>1.0</td>\n",
       "    </tr>\n",
       "    <tr>\n",
       "      <th>3</th>\n",
       "      <td>2019-05-05T13:04:05+03:00</td>\n",
       "      <td>10800</td>\n",
       "      <td>2019-05-05T13:04:02+03:00</td>\n",
       "      <td>3.0</td>\n",
       "    </tr>\n",
       "    <tr>\n",
       "      <th>4</th>\n",
       "      <td>2019-05-05T13:18:18+03:00</td>\n",
       "      <td>10800</td>\n",
       "      <td>2019-05-05T13:18:13+03:00</td>\n",
       "      <td>6.0</td>\n",
       "    </tr>\n",
       "  </tbody>\n",
       "</table>\n",
       "</div>"
      ],
      "text/plain": [
       "                    Time End  Time Offset                 Time Start  Value\n",
       "0  2019-05-05T09:40:00+03:00        10800  2019-05-05T09:39:59+03:00    1.0\n",
       "1  2019-05-05T11:13:29+03:00        10800  2019-05-05T11:12:51+03:00   34.0\n",
       "2  2019-05-05T12:07:42+03:00        10800  2019-05-05T12:07:39+03:00    1.0\n",
       "3  2019-05-05T13:04:05+03:00        10800  2019-05-05T13:04:02+03:00    3.0\n",
       "4  2019-05-05T13:18:18+03:00        10800  2019-05-05T13:18:13+03:00    6.0"
      ]
     },
     "execution_count": 6,
     "metadata": {},
     "output_type": "execute_result"
    }
   ],
   "source": [
    "data = data[data.columns.difference([\"Time End Local Tz\", \"Time Start Local Tz\"])]\n",
    "data.head()"
   ]
  },
  {
   "cell_type": "markdown",
   "metadata": {},
   "source": [
    "Also, we have remaining columns in datetime format, so we can convert them for better use."
   ]
  },
  {
   "cell_type": "code",
   "execution_count": 7,
   "metadata": {},
   "outputs": [
    {
     "data": {
      "text/html": [
       "<div>\n",
       "<style scoped>\n",
       "    .dataframe tbody tr th:only-of-type {\n",
       "        vertical-align: middle;\n",
       "    }\n",
       "\n",
       "    .dataframe tbody tr th {\n",
       "        vertical-align: top;\n",
       "    }\n",
       "\n",
       "    .dataframe thead th {\n",
       "        text-align: right;\n",
       "    }\n",
       "</style>\n",
       "<table border=\"1\" class=\"dataframe\">\n",
       "  <thead>\n",
       "    <tr style=\"text-align: right;\">\n",
       "      <th></th>\n",
       "      <th>Time End</th>\n",
       "      <th>Time Offset</th>\n",
       "      <th>Time Start</th>\n",
       "      <th>Value</th>\n",
       "    </tr>\n",
       "  </thead>\n",
       "  <tbody>\n",
       "    <tr>\n",
       "      <th>0</th>\n",
       "      <td>2019-05-05 09:40:00+03:00</td>\n",
       "      <td>10800</td>\n",
       "      <td>2019-05-05 09:39:59+03:00</td>\n",
       "      <td>1.0</td>\n",
       "    </tr>\n",
       "    <tr>\n",
       "      <th>1</th>\n",
       "      <td>2019-05-05 11:13:29+03:00</td>\n",
       "      <td>10800</td>\n",
       "      <td>2019-05-05 11:12:51+03:00</td>\n",
       "      <td>34.0</td>\n",
       "    </tr>\n",
       "    <tr>\n",
       "      <th>2</th>\n",
       "      <td>2019-05-05 12:07:42+03:00</td>\n",
       "      <td>10800</td>\n",
       "      <td>2019-05-05 12:07:39+03:00</td>\n",
       "      <td>1.0</td>\n",
       "    </tr>\n",
       "    <tr>\n",
       "      <th>3</th>\n",
       "      <td>2019-05-05 13:04:05+03:00</td>\n",
       "      <td>10800</td>\n",
       "      <td>2019-05-05 13:04:02+03:00</td>\n",
       "      <td>3.0</td>\n",
       "    </tr>\n",
       "    <tr>\n",
       "      <th>4</th>\n",
       "      <td>2019-05-05 13:18:18+03:00</td>\n",
       "      <td>10800</td>\n",
       "      <td>2019-05-05 13:18:13+03:00</td>\n",
       "      <td>6.0</td>\n",
       "    </tr>\n",
       "  </tbody>\n",
       "</table>\n",
       "</div>"
      ],
      "text/plain": [
       "                   Time End  Time Offset                Time Start  Value\n",
       "0 2019-05-05 09:40:00+03:00        10800 2019-05-05 09:39:59+03:00    1.0\n",
       "1 2019-05-05 11:13:29+03:00        10800 2019-05-05 11:12:51+03:00   34.0\n",
       "2 2019-05-05 12:07:42+03:00        10800 2019-05-05 12:07:39+03:00    1.0\n",
       "3 2019-05-05 13:04:05+03:00        10800 2019-05-05 13:04:02+03:00    3.0\n",
       "4 2019-05-05 13:18:18+03:00        10800 2019-05-05 13:18:13+03:00    6.0"
      ]
     },
     "execution_count": 7,
     "metadata": {},
     "output_type": "execute_result"
    }
   ],
   "source": [
    "data[\"Time End\"] = pd.to_datetime(data[\"Time End\"])\n",
    "data[\"Time Start\"] = pd.to_datetime(data[\"Time Start\"])\n",
    "data.head()"
   ]
  },
  {
   "cell_type": "markdown",
   "metadata": {},
   "source": [
    "Besides, ```Time Offset``` variable shows us timezone in seconds, so we won't get any new useful information from here."
   ]
  },
  {
   "cell_type": "code",
   "execution_count": 8,
   "metadata": {},
   "outputs": [
    {
     "data": {
      "text/html": [
       "<div>\n",
       "<style scoped>\n",
       "    .dataframe tbody tr th:only-of-type {\n",
       "        vertical-align: middle;\n",
       "    }\n",
       "\n",
       "    .dataframe tbody tr th {\n",
       "        vertical-align: top;\n",
       "    }\n",
       "\n",
       "    .dataframe thead th {\n",
       "        text-align: right;\n",
       "    }\n",
       "</style>\n",
       "<table border=\"1\" class=\"dataframe\">\n",
       "  <thead>\n",
       "    <tr style=\"text-align: right;\">\n",
       "      <th></th>\n",
       "      <th>Time End</th>\n",
       "      <th>Time Start</th>\n",
       "      <th>Value</th>\n",
       "    </tr>\n",
       "  </thead>\n",
       "  <tbody>\n",
       "    <tr>\n",
       "      <th>0</th>\n",
       "      <td>2019-05-05 09:40:00+03:00</td>\n",
       "      <td>2019-05-05 09:39:59+03:00</td>\n",
       "      <td>1.0</td>\n",
       "    </tr>\n",
       "    <tr>\n",
       "      <th>1</th>\n",
       "      <td>2019-05-05 11:13:29+03:00</td>\n",
       "      <td>2019-05-05 11:12:51+03:00</td>\n",
       "      <td>34.0</td>\n",
       "    </tr>\n",
       "    <tr>\n",
       "      <th>2</th>\n",
       "      <td>2019-05-05 12:07:42+03:00</td>\n",
       "      <td>2019-05-05 12:07:39+03:00</td>\n",
       "      <td>1.0</td>\n",
       "    </tr>\n",
       "    <tr>\n",
       "      <th>3</th>\n",
       "      <td>2019-05-05 13:04:05+03:00</td>\n",
       "      <td>2019-05-05 13:04:02+03:00</td>\n",
       "      <td>3.0</td>\n",
       "    </tr>\n",
       "    <tr>\n",
       "      <th>4</th>\n",
       "      <td>2019-05-05 13:18:18+03:00</td>\n",
       "      <td>2019-05-05 13:18:13+03:00</td>\n",
       "      <td>6.0</td>\n",
       "    </tr>\n",
       "  </tbody>\n",
       "</table>\n",
       "</div>"
      ],
      "text/plain": [
       "                   Time End                Time Start  Value\n",
       "0 2019-05-05 09:40:00+03:00 2019-05-05 09:39:59+03:00    1.0\n",
       "1 2019-05-05 11:13:29+03:00 2019-05-05 11:12:51+03:00   34.0\n",
       "2 2019-05-05 12:07:42+03:00 2019-05-05 12:07:39+03:00    1.0\n",
       "3 2019-05-05 13:04:05+03:00 2019-05-05 13:04:02+03:00    3.0\n",
       "4 2019-05-05 13:18:18+03:00 2019-05-05 13:18:13+03:00    6.0"
      ]
     },
     "execution_count": 8,
     "metadata": {},
     "output_type": "execute_result"
    }
   ],
   "source": [
    "data = data.drop(\"Time Offset\", axis = 1)\n",
    "data.head()"
   ]
  },
  {
   "cell_type": "markdown",
   "metadata": {},
   "source": [
    "It makes sense, to split datetime into different columns for better exploration."
   ]
  },
  {
   "cell_type": "code",
   "execution_count": 9,
   "metadata": {},
   "outputs": [
    {
     "data": {
      "text/html": [
       "<div>\n",
       "<style scoped>\n",
       "    .dataframe tbody tr th:only-of-type {\n",
       "        vertical-align: middle;\n",
       "    }\n",
       "\n",
       "    .dataframe tbody tr th {\n",
       "        vertical-align: top;\n",
       "    }\n",
       "\n",
       "    .dataframe thead th {\n",
       "        text-align: right;\n",
       "    }\n",
       "</style>\n",
       "<table border=\"1\" class=\"dataframe\">\n",
       "  <thead>\n",
       "    <tr style=\"text-align: right;\">\n",
       "      <th></th>\n",
       "      <th>date_start</th>\n",
       "      <th>time_start</th>\n",
       "      <th>date_end</th>\n",
       "      <th>time_end</th>\n",
       "      <th>value</th>\n",
       "    </tr>\n",
       "  </thead>\n",
       "  <tbody>\n",
       "    <tr>\n",
       "      <th>0</th>\n",
       "      <td>2019-05-05</td>\n",
       "      <td>09:39:59</td>\n",
       "      <td>2019-05-05</td>\n",
       "      <td>09:40:00</td>\n",
       "      <td>1.0</td>\n",
       "    </tr>\n",
       "    <tr>\n",
       "      <th>1</th>\n",
       "      <td>2019-05-05</td>\n",
       "      <td>11:12:51</td>\n",
       "      <td>2019-05-05</td>\n",
       "      <td>11:13:29</td>\n",
       "      <td>34.0</td>\n",
       "    </tr>\n",
       "    <tr>\n",
       "      <th>2</th>\n",
       "      <td>2019-05-05</td>\n",
       "      <td>12:07:39</td>\n",
       "      <td>2019-05-05</td>\n",
       "      <td>12:07:42</td>\n",
       "      <td>1.0</td>\n",
       "    </tr>\n",
       "    <tr>\n",
       "      <th>3</th>\n",
       "      <td>2019-05-05</td>\n",
       "      <td>13:04:02</td>\n",
       "      <td>2019-05-05</td>\n",
       "      <td>13:04:05</td>\n",
       "      <td>3.0</td>\n",
       "    </tr>\n",
       "    <tr>\n",
       "      <th>4</th>\n",
       "      <td>2019-05-05</td>\n",
       "      <td>13:18:13</td>\n",
       "      <td>2019-05-05</td>\n",
       "      <td>13:18:18</td>\n",
       "      <td>6.0</td>\n",
       "    </tr>\n",
       "  </tbody>\n",
       "</table>\n",
       "</div>"
      ],
      "text/plain": [
       "   date_start time_start    date_end  time_end  value\n",
       "0  2019-05-05   09:39:59  2019-05-05  09:40:00    1.0\n",
       "1  2019-05-05   11:12:51  2019-05-05  11:13:29   34.0\n",
       "2  2019-05-05   12:07:39  2019-05-05  12:07:42    1.0\n",
       "3  2019-05-05   13:04:02  2019-05-05  13:04:05    3.0\n",
       "4  2019-05-05   13:18:13  2019-05-05  13:18:18    6.0"
      ]
     },
     "execution_count": 9,
     "metadata": {},
     "output_type": "execute_result"
    }
   ],
   "source": [
    "date_end = data.apply(lambda row: row[\"Time End\"].date(), axis=1)\n",
    "time_end = data.apply(lambda row: row[\"Time End\"].time(), axis=1)\n",
    "date_start = data.apply(lambda row: row[\"Time Start\"].date(), axis=1)\n",
    "time_start = data.apply(lambda row: row[\"Time Start\"].time(), axis=1)\n",
    "vals = data[\"Value\"]\n",
    "\n",
    "data = pd.DataFrame({\"date_start\": date_start, \"time_start\": time_start, \"date_end\": date_end, \"time_end\": time_end, \"value\": vals})\n",
    "data.head()"
   ]
  },
  {
   "cell_type": "markdown",
   "metadata": {},
   "source": [
    "Now, we will create new dataframe with values, grouped by date."
   ]
  },
  {
   "cell_type": "code",
   "execution_count": 10,
   "metadata": {},
   "outputs": [],
   "source": [
    "day_data = data.groupby(by=\"date_start\", as_index=False).sum()"
   ]
  },
  {
   "cell_type": "code",
   "execution_count": 11,
   "metadata": {},
   "outputs": [
    {
     "data": {
      "text/html": [
       "<div>\n",
       "<style scoped>\n",
       "    .dataframe tbody tr th:only-of-type {\n",
       "        vertical-align: middle;\n",
       "    }\n",
       "\n",
       "    .dataframe tbody tr th {\n",
       "        vertical-align: top;\n",
       "    }\n",
       "\n",
       "    .dataframe thead th {\n",
       "        text-align: right;\n",
       "    }\n",
       "</style>\n",
       "<table border=\"1\" class=\"dataframe\">\n",
       "  <thead>\n",
       "    <tr style=\"text-align: right;\">\n",
       "      <th></th>\n",
       "      <th>date_start</th>\n",
       "      <th>value</th>\n",
       "    </tr>\n",
       "  </thead>\n",
       "  <tbody>\n",
       "    <tr>\n",
       "      <th>0</th>\n",
       "      <td>2019-05-01</td>\n",
       "      <td>21.0</td>\n",
       "    </tr>\n",
       "    <tr>\n",
       "      <th>1</th>\n",
       "      <td>2019-05-02</td>\n",
       "      <td>12956.0</td>\n",
       "    </tr>\n",
       "    <tr>\n",
       "      <th>2</th>\n",
       "      <td>2019-05-03</td>\n",
       "      <td>17003.0</td>\n",
       "    </tr>\n",
       "    <tr>\n",
       "      <th>3</th>\n",
       "      <td>2019-05-04</td>\n",
       "      <td>14312.0</td>\n",
       "    </tr>\n",
       "    <tr>\n",
       "      <th>4</th>\n",
       "      <td>2019-05-05</td>\n",
       "      <td>11124.0</td>\n",
       "    </tr>\n",
       "  </tbody>\n",
       "</table>\n",
       "</div>"
      ],
      "text/plain": [
       "   date_start    value\n",
       "0  2019-05-01     21.0\n",
       "1  2019-05-02  12956.0\n",
       "2  2019-05-03  17003.0\n",
       "3  2019-05-04  14312.0\n",
       "4  2019-05-05  11124.0"
      ]
     },
     "execution_count": 11,
     "metadata": {},
     "output_type": "execute_result"
    }
   ],
   "source": [
    "day_data.head()"
   ]
  },
  {
   "cell_type": "markdown",
   "metadata": {},
   "source": [
    "As we can see, now we have a dataframe, which shows how many steps were made by user for each date."
   ]
  },
  {
   "cell_type": "code",
   "execution_count": 12,
   "metadata": {},
   "outputs": [
    {
     "data": {
      "text/plain": [
       "<matplotlib.axes._subplots.AxesSubplot at 0x7f4a7b0384a8>"
      ]
     },
     "execution_count": 12,
     "metadata": {},
     "output_type": "execute_result"
    },
    {
     "data": {
      "image/png": "[encoded data removed]",
      "text/plain": [
       "<Figure size 432x288 with 1 Axes>"
      ]
     },
     "metadata": {
      "needs_background": "light"
     },
     "output_type": "display_data"
    }
   ],
   "source": [
    "sns.scatterplot(data=day_data['value'])"
   ]
  },
  {
   "cell_type": "markdown",
   "metadata": {},
   "source": [
    "---"
   ]
  },
  {
   "cell_type": "markdown",
   "metadata": {},
   "source": [
    "## K-Means Clustering"
   ]
  },
  {
   "cell_type": "markdown",
   "metadata": {},
   "source": [
    "Importing basic libraries, which we will use in the future."
   ]
  },
  {
   "cell_type": "code",
   "execution_count": 13,
   "metadata": {},
   "outputs": [],
   "source": [
    "from sklearn.cluster import KMeans"
   ]
  },
  {
   "cell_type": "markdown",
   "metadata": {},
   "source": [
    "### Two clusters"
   ]
  },
  {
   "cell_type": "code",
   "execution_count": 14,
   "metadata": {},
   "outputs": [],
   "source": [
    "model = KMeans(n_clusters=2, random_state=24)"
   ]
  },
  {
   "cell_type": "code",
   "execution_count": 15,
   "metadata": {},
   "outputs": [
    {
     "data": {
      "text/plain": [
       "KMeans(algorithm='auto', copy_x=True, init='k-means++', max_iter=300,\n",
       "    n_clusters=2, n_init=10, n_jobs=None, precompute_distances='auto',\n",
       "    random_state=24, tol=0.0001, verbose=0)"
      ]
     },
     "execution_count": 15,
     "metadata": {},
     "output_type": "execute_result"
    }
   ],
   "source": [
    "data_for_problem_1 = day_data['value'].to_numpy().reshape(-1, 1)\n",
    "model.fit(data_for_problem_1)"
   ]
  },
  {
   "cell_type": "code",
   "execution_count": 16,
   "metadata": {},
   "outputs": [
    {
     "data": {
      "text/plain": [
       "array([0, 0, 0, 0, 0, 0, 0, 0, 0, 0, 0, 0, 0, 0, 0, 0, 0, 0, 0, 0, 0, 0,\n",
       "       0, 0, 0, 0, 0, 0, 0, 0, 0, 0, 0, 0, 0, 0, 0, 0, 0, 0, 0, 0, 0, 0,\n",
       "       0, 0, 0, 0, 0, 0, 0, 0, 0, 0, 0, 0, 0, 0, 0, 0, 0, 0, 0, 0, 0, 0,\n",
       "       0, 0, 0, 0, 0, 0, 0, 0, 0, 0, 0, 0, 0, 0, 0, 0, 0, 0, 0, 0, 0, 0,\n",
       "       0, 0, 0, 0, 0, 0, 1, 0, 0, 0, 0, 0, 0, 0, 0, 0, 0], dtype=int32)"
      ]
     },
     "execution_count": 16,
     "metadata": {},
     "output_type": "execute_result"
    }
   ],
   "source": [
    "labels = model.predict(data_for_problem_1)\n",
    "labels"
   ]
  },
  {
   "cell_type": "code",
   "execution_count": 17,
   "metadata": {},
   "outputs": [
    {
     "data": {
      "text/html": [
       "<div>\n",
       "<style scoped>\n",
       "    .dataframe tbody tr th:only-of-type {\n",
       "        vertical-align: middle;\n",
       "    }\n",
       "\n",
       "    .dataframe tbody tr th {\n",
       "        vertical-align: top;\n",
       "    }\n",
       "\n",
       "    .dataframe thead th {\n",
       "        text-align: right;\n",
       "    }\n",
       "</style>\n",
       "<table border=\"1\" class=\"dataframe\">\n",
       "  <thead>\n",
       "    <tr style=\"text-align: right;\">\n",
       "      <th></th>\n",
       "      <th>value</th>\n",
       "      <th>labels</th>\n",
       "    </tr>\n",
       "  </thead>\n",
       "  <tbody>\n",
       "    <tr>\n",
       "      <th>0</th>\n",
       "      <td>21.0</td>\n",
       "      <td>0</td>\n",
       "    </tr>\n",
       "    <tr>\n",
       "      <th>1</th>\n",
       "      <td>12956.0</td>\n",
       "      <td>0</td>\n",
       "    </tr>\n",
       "    <tr>\n",
       "      <th>2</th>\n",
       "      <td>17003.0</td>\n",
       "      <td>0</td>\n",
       "    </tr>\n",
       "    <tr>\n",
       "      <th>3</th>\n",
       "      <td>14312.0</td>\n",
       "      <td>0</td>\n",
       "    </tr>\n",
       "    <tr>\n",
       "      <th>4</th>\n",
       "      <td>11124.0</td>\n",
       "      <td>0</td>\n",
       "    </tr>\n",
       "  </tbody>\n",
       "</table>\n",
       "</div>"
      ],
      "text/plain": [
       "     value  labels\n",
       "0     21.0       0\n",
       "1  12956.0       0\n",
       "2  17003.0       0\n",
       "3  14312.0       0\n",
       "4  11124.0       0"
      ]
     },
     "execution_count": 17,
     "metadata": {},
     "output_type": "execute_result"
    }
   ],
   "source": [
    "rez = pd.DataFrame({\"value\": data_for_problem_1.flatten(), \"labels\": labels})\n",
    "rez.head()"
   ]
  },
  {
   "cell_type": "code",
   "execution_count": 18,
   "metadata": {},
   "outputs": [
    {
     "data": {
      "text/plain": [
       "<matplotlib.axes._subplots.AxesSubplot at 0x7f4a7935e390>"
      ]
     },
     "execution_count": 18,
     "metadata": {},
     "output_type": "execute_result"
    },
    {
     "data": {
      "image/png": "[encoded data removed]",
      "text/plain": [
       "<Figure size 432x288 with 1 Axes>"
      ]
     },
     "metadata": {
      "needs_background": "light"
     },
     "output_type": "display_data"
    }
   ],
   "source": [
    "sns.scatterplot(x=rez.index, y='value', data=rez, hue='labels')"
   ]
  },
  {
   "cell_type": "markdown",
   "metadata": {},
   "source": [
    "Seems like, the model can't generalize well enough because of the outlier.\n",
    "\n",
    "Will remove outlier using method proposed in \"Outlier Detection and Removal Algorithm in K-Means and Hierarchical Clustering\" paper (https://pdfs.semanticscholar.org/4c68/4a9ba057fb7e61733ff554fe2975a2c91096.pdf)."
   ]
  },
  {
   "cell_type": "code",
   "execution_count": 19,
   "metadata": {},
   "outputs": [
    {
     "name": "stdout",
     "output_type": "stream",
     "text": [
      "Outlier Cluster - 1\n"
     ]
    }
   ],
   "source": [
    "rez1 = rez.groupby(by='labels').size()\n",
    "minimum = np.min(rez1)\n",
    "outlier_cluster = rez1.iloc[np.where(rez1 == minimum)].index[0]\n",
    "print(\"Outlier Cluster - {}\".format(outlier_cluster))"
   ]
  },
  {
   "cell_type": "code",
   "execution_count": 20,
   "metadata": {},
   "outputs": [
    {
     "data": {
      "text/plain": [
       "KMeans(algorithm='auto', copy_x=True, init='k-means++', max_iter=300,\n",
       "    n_clusters=2, n_init=10, n_jobs=None, precompute_distances='auto',\n",
       "    random_state=24, tol=0.0001, verbose=0)"
      ]
     },
     "execution_count": 20,
     "metadata": {},
     "output_type": "execute_result"
    }
   ],
   "source": [
    "new_data_for_problem_1 = rez[rez['labels'] != outlier_cluster]['value'].to_numpy().reshape(-1, 1) # need to change to another variable\n",
    "model.fit(new_data_for_problem_1)"
   ]
  },
  {
   "cell_type": "code",
   "execution_count": 21,
   "metadata": {},
   "outputs": [
    {
     "data": {
      "text/plain": [
       "array([1, 1, 0, 1, 1, 1, 1, 1, 1, 0, 1, 0, 1, 0, 0, 1, 1, 1, 0, 0, 1, 1,\n",
       "       1, 1, 1, 1, 1, 0, 0, 0, 0, 1, 1, 0, 1, 0, 1, 1, 1, 1, 0, 0, 0, 1,\n",
       "       0, 1, 0, 0, 0, 0, 1, 0, 0, 1, 0, 1, 1, 1, 0, 0, 0, 0, 0, 0, 1, 1,\n",
       "       0, 0, 0, 0, 0, 1, 0, 1, 0, 1, 1, 0, 1, 0, 0, 0, 1, 1, 1, 1, 1, 1,\n",
       "       1, 1, 1, 1, 1, 1, 0, 0, 1, 1, 1, 0, 1, 0, 0, 1, 1], dtype=int32)"
      ]
     },
     "execution_count": 21,
     "metadata": {},
     "output_type": "execute_result"
    }
   ],
   "source": [
    "labels = model.predict(data_for_problem_1)\n",
    "labels"
   ]
  },
  {
   "cell_type": "code",
   "execution_count": 22,
   "metadata": {},
   "outputs": [
    {
     "data": {
      "text/html": [
       "<div>\n",
       "<style scoped>\n",
       "    .dataframe tbody tr th:only-of-type {\n",
       "        vertical-align: middle;\n",
       "    }\n",
       "\n",
       "    .dataframe tbody tr th {\n",
       "        vertical-align: top;\n",
       "    }\n",
       "\n",
       "    .dataframe thead th {\n",
       "        text-align: right;\n",
       "    }\n",
       "</style>\n",
       "<table border=\"1\" class=\"dataframe\">\n",
       "  <thead>\n",
       "    <tr style=\"text-align: right;\">\n",
       "      <th></th>\n",
       "      <th>value</th>\n",
       "      <th>labels</th>\n",
       "    </tr>\n",
       "  </thead>\n",
       "  <tbody>\n",
       "    <tr>\n",
       "      <th>0</th>\n",
       "      <td>21.0</td>\n",
       "      <td>1</td>\n",
       "    </tr>\n",
       "    <tr>\n",
       "      <th>1</th>\n",
       "      <td>12956.0</td>\n",
       "      <td>1</td>\n",
       "    </tr>\n",
       "    <tr>\n",
       "      <th>2</th>\n",
       "      <td>17003.0</td>\n",
       "      <td>0</td>\n",
       "    </tr>\n",
       "    <tr>\n",
       "      <th>3</th>\n",
       "      <td>14312.0</td>\n",
       "      <td>1</td>\n",
       "    </tr>\n",
       "    <tr>\n",
       "      <th>4</th>\n",
       "      <td>11124.0</td>\n",
       "      <td>1</td>\n",
       "    </tr>\n",
       "  </tbody>\n",
       "</table>\n",
       "</div>"
      ],
      "text/plain": [
       "     value  labels\n",
       "0     21.0       1\n",
       "1  12956.0       1\n",
       "2  17003.0       0\n",
       "3  14312.0       1\n",
       "4  11124.0       1"
      ]
     },
     "execution_count": 22,
     "metadata": {},
     "output_type": "execute_result"
    }
   ],
   "source": [
    "rez = pd.DataFrame({\"value\": data_for_problem_1.flatten(), \"labels\": labels})\n",
    "rez.head()"
   ]
  },
  {
   "cell_type": "code",
   "execution_count": 23,
   "metadata": {},
   "outputs": [
    {
     "data": {
      "text/plain": [
       "<matplotlib.axes._subplots.AxesSubplot at 0x7f4a792d1e10>"
      ]
     },
     "execution_count": 23,
     "metadata": {},
     "output_type": "execute_result"
    },
    {
     "data": {
      "image/png": "[encoded data removed]",
      "text/plain": [
       "<Figure size 432x288 with 1 Axes>"
      ]
     },
     "metadata": {
      "needs_background": "light"
     },
     "output_type": "display_data"
    }
   ],
   "source": [
    "sns.scatterplot(x=rez.index, y='value', data=rez, hue='labels')"
   ]
  },
  {
   "cell_type": "markdown",
   "metadata": {},
   "source": [
    "We have successfully solved the problem with outlier, so we can check if the result satisfies us.\n",
    "\n",
    "As we can see, the resulted model has another interpretation of data. It splits data points into two parts: \"distance below mean value\" and \"distance above mean value\". So, we will reject this hypothesis."
   ]
  },
  {
   "cell_type": "markdown",
   "metadata": {},
   "source": [
    "### Three clusters"
   ]
  },
  {
   "cell_type": "code",
   "execution_count": 24,
   "metadata": {},
   "outputs": [],
   "source": [
    "model = KMeans(n_clusters=3, random_state=24)"
   ]
  },
  {
   "cell_type": "code",
   "execution_count": 25,
   "metadata": {},
   "outputs": [
    {
     "data": {
      "text/plain": [
       "KMeans(algorithm='auto', copy_x=True, init='k-means++', max_iter=300,\n",
       "    n_clusters=3, n_init=10, n_jobs=None, precompute_distances='auto',\n",
       "    random_state=24, tol=0.0001, verbose=0)"
      ]
     },
     "execution_count": 25,
     "metadata": {},
     "output_type": "execute_result"
    }
   ],
   "source": [
    "data_for_problem_2 = day_data['value'].to_numpy().reshape(-1, 1)\n",
    "model.fit(data_for_problem_2)"
   ]
  },
  {
   "cell_type": "code",
   "execution_count": 26,
   "metadata": {},
   "outputs": [
    {
     "data": {
      "text/plain": [
       "array([2, 2, 0, 2, 2, 2, 2, 2, 2, 0, 2, 0, 2, 0, 0, 2, 2, 2, 0, 0, 2, 2,\n",
       "       2, 2, 2, 2, 2, 0, 0, 0, 0, 2, 2, 0, 2, 0, 2, 2, 2, 2, 0, 0, 0, 2,\n",
       "       0, 2, 0, 0, 0, 0, 2, 0, 0, 2, 0, 2, 2, 2, 0, 0, 0, 0, 0, 0, 2, 2,\n",
       "       0, 0, 0, 0, 0, 2, 0, 2, 0, 2, 2, 0, 2, 0, 0, 0, 2, 2, 2, 2, 2, 2,\n",
       "       2, 2, 2, 2, 2, 2, 1, 0, 2, 2, 2, 0, 2, 0, 0, 2, 2], dtype=int32)"
      ]
     },
     "execution_count": 26,
     "metadata": {},
     "output_type": "execute_result"
    }
   ],
   "source": [
    "labels = model.predict(data_for_problem_2)\n",
    "labels"
   ]
  },
  {
   "cell_type": "code",
   "execution_count": 27,
   "metadata": {},
   "outputs": [
    {
     "data": {
      "text/html": [
       "<div>\n",
       "<style scoped>\n",
       "    .dataframe tbody tr th:only-of-type {\n",
       "        vertical-align: middle;\n",
       "    }\n",
       "\n",
       "    .dataframe tbody tr th {\n",
       "        vertical-align: top;\n",
       "    }\n",
       "\n",
       "    .dataframe thead th {\n",
       "        text-align: right;\n",
       "    }\n",
       "</style>\n",
       "<table border=\"1\" class=\"dataframe\">\n",
       "  <thead>\n",
       "    <tr style=\"text-align: right;\">\n",
       "      <th></th>\n",
       "      <th>value</th>\n",
       "      <th>labels</th>\n",
       "    </tr>\n",
       "  </thead>\n",
       "  <tbody>\n",
       "    <tr>\n",
       "      <th>0</th>\n",
       "      <td>21.0</td>\n",
       "      <td>2</td>\n",
       "    </tr>\n",
       "    <tr>\n",
       "      <th>1</th>\n",
       "      <td>12956.0</td>\n",
       "      <td>2</td>\n",
       "    </tr>\n",
       "    <tr>\n",
       "      <th>2</th>\n",
       "      <td>17003.0</td>\n",
       "      <td>0</td>\n",
       "    </tr>\n",
       "    <tr>\n",
       "      <th>3</th>\n",
       "      <td>14312.0</td>\n",
       "      <td>2</td>\n",
       "    </tr>\n",
       "    <tr>\n",
       "      <th>4</th>\n",
       "      <td>11124.0</td>\n",
       "      <td>2</td>\n",
       "    </tr>\n",
       "  </tbody>\n",
       "</table>\n",
       "</div>"
      ],
      "text/plain": [
       "     value  labels\n",
       "0     21.0       2\n",
       "1  12956.0       2\n",
       "2  17003.0       0\n",
       "3  14312.0       2\n",
       "4  11124.0       2"
      ]
     },
     "execution_count": 27,
     "metadata": {},
     "output_type": "execute_result"
    }
   ],
   "source": [
    "rez = pd.DataFrame({\"value\": data_for_problem_2.flatten(), \"labels\": labels})\n",
    "rez.head()"
   ]
  },
  {
   "cell_type": "code",
   "execution_count": 28,
   "metadata": {},
   "outputs": [
    {
     "data": {
      "text/plain": [
       "<matplotlib.axes._subplots.AxesSubplot at 0x7f4a7928d9b0>"
      ]
     },
     "execution_count": 28,
     "metadata": {},
     "output_type": "execute_result"
    },
    {
     "data": {
      "image/png": "[encoded data removed]",
      "text/plain": [
       "<Figure size 432x288 with 1 Axes>"
      ]
     },
     "metadata": {
      "needs_background": "light"
     },
     "output_type": "display_data"
    }
   ],
   "source": [
    "sns.scatterplot(x=rez.index, y='value', data=rez, hue='labels')"
   ]
  },
  {
   "cell_type": "markdown",
   "metadata": {},
   "source": [
    "Here, we have the same problem with the outlier same as in the part with two clusters.\n",
    "\n",
    "We will solve this problem in the same way."
   ]
  },
  {
   "cell_type": "code",
   "execution_count": 29,
   "metadata": {},
   "outputs": [
    {
     "name": "stdout",
     "output_type": "stream",
     "text": [
      "Outlier Cluster - 1\n"
     ]
    }
   ],
   "source": [
    "rez1 = rez.groupby(by='labels').size()\n",
    "minimum = np.min(rez1)\n",
    "outlier_cluster = rez1.iloc[np.where(rez1 == minimum)].index[0]\n",
    "print(\"Outlier Cluster - {}\".format(outlier_cluster))"
   ]
  },
  {
   "cell_type": "code",
   "execution_count": 30,
   "metadata": {},
   "outputs": [
    {
     "data": {
      "text/plain": [
       "KMeans(algorithm='auto', copy_x=True, init='k-means++', max_iter=300,\n",
       "    n_clusters=3, n_init=10, n_jobs=None, precompute_distances='auto',\n",
       "    random_state=24, tol=0.0001, verbose=0)"
      ]
     },
     "execution_count": 30,
     "metadata": {},
     "output_type": "execute_result"
    }
   ],
   "source": [
    "new_data_for_problem_2 = rez[rez['labels'] != outlier_cluster]['value'].to_numpy().reshape(-1, 1) # need to change to another variable\n",
    "model.fit(new_data_for_problem_2)"
   ]
  },
  {
   "cell_type": "code",
   "execution_count": 31,
   "metadata": {},
   "outputs": [
    {
     "data": {
      "text/plain": [
       "array([2, 0, 0, 0, 2, 2, 2, 0, 0, 1, 0, 1, 2, 0, 0, 2, 0, 2, 1, 0, 0, 0,\n",
       "       2, 2, 0, 2, 2, 0, 1, 0, 1, 0, 2, 1, 0, 0, 0, 0, 0, 0, 1, 0, 0, 0,\n",
       "       0, 2, 0, 0, 0, 1, 0, 0, 1, 2, 0, 2, 0, 0, 0, 0, 0, 0, 0, 0, 0, 0,\n",
       "       0, 1, 1, 1, 0, 0, 0, 0, 0, 2, 0, 0, 2, 1, 1, 1, 0, 0, 2, 2, 2, 0,\n",
       "       0, 0, 0, 2, 2, 0, 1, 0, 0, 2, 2, 0, 2, 0, 0, 2, 2], dtype=int32)"
      ]
     },
     "execution_count": 31,
     "metadata": {},
     "output_type": "execute_result"
    }
   ],
   "source": [
    "labels = model.predict(data_for_problem_2)\n",
    "labels"
   ]
  },
  {
   "cell_type": "code",
   "execution_count": 32,
   "metadata": {},
   "outputs": [
    {
     "data": {
      "text/html": [
       "<div>\n",
       "<style scoped>\n",
       "    .dataframe tbody tr th:only-of-type {\n",
       "        vertical-align: middle;\n",
       "    }\n",
       "\n",
       "    .dataframe tbody tr th {\n",
       "        vertical-align: top;\n",
       "    }\n",
       "\n",
       "    .dataframe thead th {\n",
       "        text-align: right;\n",
       "    }\n",
       "</style>\n",
       "<table border=\"1\" class=\"dataframe\">\n",
       "  <thead>\n",
       "    <tr style=\"text-align: right;\">\n",
       "      <th></th>\n",
       "      <th>value</th>\n",
       "      <th>labels</th>\n",
       "    </tr>\n",
       "  </thead>\n",
       "  <tbody>\n",
       "    <tr>\n",
       "      <th>0</th>\n",
       "      <td>21.0</td>\n",
       "      <td>2</td>\n",
       "    </tr>\n",
       "    <tr>\n",
       "      <th>1</th>\n",
       "      <td>12956.0</td>\n",
       "      <td>0</td>\n",
       "    </tr>\n",
       "    <tr>\n",
       "      <th>2</th>\n",
       "      <td>17003.0</td>\n",
       "      <td>0</td>\n",
       "    </tr>\n",
       "    <tr>\n",
       "      <th>3</th>\n",
       "      <td>14312.0</td>\n",
       "      <td>0</td>\n",
       "    </tr>\n",
       "    <tr>\n",
       "      <th>4</th>\n",
       "      <td>11124.0</td>\n",
       "      <td>2</td>\n",
       "    </tr>\n",
       "  </tbody>\n",
       "</table>\n",
       "</div>"
      ],
      "text/plain": [
       "     value  labels\n",
       "0     21.0       2\n",
       "1  12956.0       0\n",
       "2  17003.0       0\n",
       "3  14312.0       0\n",
       "4  11124.0       2"
      ]
     },
     "execution_count": 32,
     "metadata": {},
     "output_type": "execute_result"
    }
   ],
   "source": [
    "rez = pd.DataFrame({\"value\": data_for_problem_2.flatten(), \"labels\": labels})\n",
    "rez.head()"
   ]
  },
  {
   "cell_type": "code",
   "execution_count": 33,
   "metadata": {},
   "outputs": [
    {
     "data": {
      "text/plain": [
       "<matplotlib.axes._subplots.AxesSubplot at 0x7f4a791db3c8>"
      ]
     },
     "execution_count": 33,
     "metadata": {},
     "output_type": "execute_result"
    },
    {
     "data": {
      "image/png": "[encoded data removed]",
      "text/plain": [
       "<Figure size 432x288 with 1 Axes>"
      ]
     },
     "metadata": {
      "needs_background": "light"
     },
     "output_type": "display_data"
    }
   ],
   "source": [
    "sns.scatterplot(x=rez.index, y='value', data=rez, hue='labels')"
   ]
  },
  {
   "cell_type": "code",
   "execution_count": 34,
   "metadata": {},
   "outputs": [
    {
     "data": {
      "text/html": [
       "<div>\n",
       "<style scoped>\n",
       "    .dataframe tbody tr th:only-of-type {\n",
       "        vertical-align: middle;\n",
       "    }\n",
       "\n",
       "    .dataframe tbody tr th {\n",
       "        vertical-align: top;\n",
       "    }\n",
       "\n",
       "    .dataframe thead th {\n",
       "        text-align: right;\n",
       "    }\n",
       "</style>\n",
       "<table border=\"1\" class=\"dataframe\">\n",
       "  <thead>\n",
       "    <tr style=\"text-align: right;\">\n",
       "      <th></th>\n",
       "      <th>value</th>\n",
       "    </tr>\n",
       "    <tr>\n",
       "      <th>labels</th>\n",
       "      <th></th>\n",
       "    </tr>\n",
       "  </thead>\n",
       "  <tbody>\n",
       "    <tr>\n",
       "      <th>0</th>\n",
       "      <td>62</td>\n",
       "    </tr>\n",
       "    <tr>\n",
       "      <th>1</th>\n",
       "      <td>16</td>\n",
       "    </tr>\n",
       "    <tr>\n",
       "      <th>2</th>\n",
       "      <td>27</td>\n",
       "    </tr>\n",
       "  </tbody>\n",
       "</table>\n",
       "</div>"
      ],
      "text/plain": [
       "        value\n",
       "labels       \n",
       "0          62\n",
       "1          16\n",
       "2          27"
      ]
     },
     "execution_count": 34,
     "metadata": {},
     "output_type": "execute_result"
    }
   ],
   "source": [
    "grouped = rez.groupby(by='labels').count()\n",
    "grouped"
   ]
  },
  {
   "cell_type": "code",
   "execution_count": 35,
   "metadata": {},
   "outputs": [
    {
     "name": "stdout",
     "output_type": "stream",
     "text": [
      "This model shows approx. 40.95% of the data is 'unusual'.\n"
     ]
    }
   ],
   "source": [
    "num_all = grouped.sum()[0]\n",
    "num_not_normal = (num_all - np.max(grouped))[0]\n",
    "\n",
    "print(\"This model shows approx. {:.2f}% of the data is 'unusual'.\".format(num_not_normal * 100 / num_all))"
   ]
  },
  {
   "cell_type": "markdown",
   "metadata": {},
   "source": [
    "In my opinion, this model has exactly the same interpretation, that we wanted to get.\n",
    "\n",
    "We see that data points in cluster with label 2 show rather small values of distance compared to data points that we defined as \"normal\" (those with label 0), and data points in cluster with label 1 show rather large values of distance compared to \"normal\".\n",
    "\n",
    "But maybe we will get even better prediction model with 5 clusters."
   ]
  },
  {
   "cell_type": "markdown",
   "metadata": {},
   "source": [
    "### Five clusters"
   ]
  },
  {
   "cell_type": "code",
   "execution_count": 36,
   "metadata": {},
   "outputs": [],
   "source": [
    "model = KMeans(n_clusters=5, random_state=24)"
   ]
  },
  {
   "cell_type": "code",
   "execution_count": 37,
   "metadata": {},
   "outputs": [
    {
     "data": {
      "text/plain": [
       "KMeans(algorithm='auto', copy_x=True, init='k-means++', max_iter=300,\n",
       "    n_clusters=5, n_init=10, n_jobs=None, precompute_distances='auto',\n",
       "    random_state=24, tol=0.0001, verbose=0)"
      ]
     },
     "execution_count": 37,
     "metadata": {},
     "output_type": "execute_result"
    }
   ],
   "source": [
    "data_for_problem_3 = day_data['value'].to_numpy().reshape(-1, 1)\n",
    "model.fit(data_for_problem_3)"
   ]
  },
  {
   "cell_type": "code",
   "execution_count": 38,
   "metadata": {},
   "outputs": [
    {
     "data": {
      "text/plain": [
       "array([3, 1, 4, 1, 1, 3, 3, 1, 1, 0, 1, 0, 1, 4, 4, 1, 1, 3, 0, 4, 1, 1,\n",
       "       3, 3, 1, 3, 3, 4, 4, 4, 0, 1, 3, 0, 1, 4, 1, 1, 1, 1, 0, 4, 4, 1,\n",
       "       4, 1, 4, 4, 4, 0, 1, 4, 4, 3, 4, 1, 1, 1, 4, 4, 4, 4, 4, 4, 1, 1,\n",
       "       4, 0, 4, 0, 4, 1, 4, 1, 4, 1, 1, 4, 1, 0, 0, 0, 1, 1, 3, 1, 3, 1,\n",
       "       1, 1, 1, 1, 3, 1, 2, 4, 1, 1, 3, 4, 1, 4, 4, 1, 1], dtype=int32)"
      ]
     },
     "execution_count": 38,
     "metadata": {},
     "output_type": "execute_result"
    }
   ],
   "source": [
    "labels = model.predict(data_for_problem_3)\n",
    "labels"
   ]
  },
  {
   "cell_type": "code",
   "execution_count": 39,
   "metadata": {},
   "outputs": [
    {
     "data": {
      "text/html": [
       "<div>\n",
       "<style scoped>\n",
       "    .dataframe tbody tr th:only-of-type {\n",
       "        vertical-align: middle;\n",
       "    }\n",
       "\n",
       "    .dataframe tbody tr th {\n",
       "        vertical-align: top;\n",
       "    }\n",
       "\n",
       "    .dataframe thead th {\n",
       "        text-align: right;\n",
       "    }\n",
       "</style>\n",
       "<table border=\"1\" class=\"dataframe\">\n",
       "  <thead>\n",
       "    <tr style=\"text-align: right;\">\n",
       "      <th></th>\n",
       "      <th>value</th>\n",
       "      <th>labels</th>\n",
       "    </tr>\n",
       "  </thead>\n",
       "  <tbody>\n",
       "    <tr>\n",
       "      <th>0</th>\n",
       "      <td>21.0</td>\n",
       "      <td>3</td>\n",
       "    </tr>\n",
       "    <tr>\n",
       "      <th>1</th>\n",
       "      <td>12956.0</td>\n",
       "      <td>1</td>\n",
       "    </tr>\n",
       "    <tr>\n",
       "      <th>2</th>\n",
       "      <td>17003.0</td>\n",
       "      <td>4</td>\n",
       "    </tr>\n",
       "    <tr>\n",
       "      <th>3</th>\n",
       "      <td>14312.0</td>\n",
       "      <td>1</td>\n",
       "    </tr>\n",
       "    <tr>\n",
       "      <th>4</th>\n",
       "      <td>11124.0</td>\n",
       "      <td>1</td>\n",
       "    </tr>\n",
       "  </tbody>\n",
       "</table>\n",
       "</div>"
      ],
      "text/plain": [
       "     value  labels\n",
       "0     21.0       3\n",
       "1  12956.0       1\n",
       "2  17003.0       4\n",
       "3  14312.0       1\n",
       "4  11124.0       1"
      ]
     },
     "execution_count": 39,
     "metadata": {},
     "output_type": "execute_result"
    }
   ],
   "source": [
    "rez = pd.DataFrame({\"value\": data_for_problem_3.flatten(), \"labels\": labels})\n",
    "rez.head()"
   ]
  },
  {
   "cell_type": "code",
   "execution_count": 40,
   "metadata": {},
   "outputs": [
    {
     "data": {
      "text/plain": [
       "<matplotlib.axes._subplots.AxesSubplot at 0x7f4a7917cc88>"
      ]
     },
     "execution_count": 40,
     "metadata": {},
     "output_type": "execute_result"
    },
    {
     "data": {
      "image/png": "[encoded data removed]",
      "text/plain": [
       "<Figure size 432x288 with 1 Axes>"
      ]
     },
     "metadata": {
      "needs_background": "light"
     },
     "output_type": "display_data"
    }
   ],
   "source": [
    "sns.scatterplot(x=rez.index, y='value', data=rez, hue='labels')"
   ]
  },
  {
   "cell_type": "markdown",
   "metadata": {},
   "source": [
    "Usual procedure to get rid of outliers."
   ]
  },
  {
   "cell_type": "code",
   "execution_count": 41,
   "metadata": {},
   "outputs": [
    {
     "name": "stdout",
     "output_type": "stream",
     "text": [
      "Outlier Cluster - 2\n"
     ]
    }
   ],
   "source": [
    "rez1 = rez.groupby(by='labels').size()\n",
    "minimum = np.min(rez1)\n",
    "outlier_cluster = rez1.iloc[np.where(rez1 == minimum)].index[0]\n",
    "print(\"Outlier Cluster - {}\".format(outlier_cluster))"
   ]
  },
  {
   "cell_type": "code",
   "execution_count": 42,
   "metadata": {},
   "outputs": [
    {
     "data": {
      "text/plain": [
       "KMeans(algorithm='auto', copy_x=True, init='k-means++', max_iter=300,\n",
       "    n_clusters=5, n_init=10, n_jobs=None, precompute_distances='auto',\n",
       "    random_state=24, tol=0.0001, verbose=0)"
      ]
     },
     "execution_count": 42,
     "metadata": {},
     "output_type": "execute_result"
    }
   ],
   "source": [
    "new_data_for_problem_3 = rez[rez['labels'] != outlier_cluster]['value'].to_numpy().reshape(-1, 1) # need to change to another variable\n",
    "model.fit(new_data_for_problem_3)"
   ]
  },
  {
   "cell_type": "code",
   "execution_count": 43,
   "metadata": {},
   "outputs": [
    {
     "data": {
      "text/plain": [
       "array([3, 1, 2, 2, 1, 3, 3, 1, 1, 4, 1, 0, 1, 2, 2, 1, 2, 3, 0, 2, 1, 1,\n",
       "       3, 1, 1, 3, 3, 2, 0, 2, 4, 2, 3, 4, 2, 2, 1, 1, 1, 1, 0, 2, 2, 2,\n",
       "       2, 1, 2, 2, 2, 0, 1, 2, 0, 1, 2, 1, 1, 1, 2, 2, 2, 2, 2, 2, 2, 1,\n",
       "       2, 0, 0, 4, 2, 2, 2, 2, 2, 1, 1, 2, 1, 0, 0, 0, 1, 1, 3, 1, 3, 1,\n",
       "       1, 1, 2, 1, 3, 1, 4, 2, 1, 1, 3, 2, 1, 2, 2, 1, 1], dtype=int32)"
      ]
     },
     "execution_count": 43,
     "metadata": {},
     "output_type": "execute_result"
    }
   ],
   "source": [
    "labels = model.predict(data_for_problem_3)\n",
    "labels"
   ]
  },
  {
   "cell_type": "code",
   "execution_count": 44,
   "metadata": {},
   "outputs": [
    {
     "data": {
      "text/html": [
       "<div>\n",
       "<style scoped>\n",
       "    .dataframe tbody tr th:only-of-type {\n",
       "        vertical-align: middle;\n",
       "    }\n",
       "\n",
       "    .dataframe tbody tr th {\n",
       "        vertical-align: top;\n",
       "    }\n",
       "\n",
       "    .dataframe thead th {\n",
       "        text-align: right;\n",
       "    }\n",
       "</style>\n",
       "<table border=\"1\" class=\"dataframe\">\n",
       "  <thead>\n",
       "    <tr style=\"text-align: right;\">\n",
       "      <th></th>\n",
       "      <th>value</th>\n",
       "      <th>labels</th>\n",
       "    </tr>\n",
       "  </thead>\n",
       "  <tbody>\n",
       "    <tr>\n",
       "      <th>0</th>\n",
       "      <td>21.0</td>\n",
       "      <td>3</td>\n",
       "    </tr>\n",
       "    <tr>\n",
       "      <th>1</th>\n",
       "      <td>12956.0</td>\n",
       "      <td>1</td>\n",
       "    </tr>\n",
       "    <tr>\n",
       "      <th>2</th>\n",
       "      <td>17003.0</td>\n",
       "      <td>2</td>\n",
       "    </tr>\n",
       "    <tr>\n",
       "      <th>3</th>\n",
       "      <td>14312.0</td>\n",
       "      <td>2</td>\n",
       "    </tr>\n",
       "    <tr>\n",
       "      <th>4</th>\n",
       "      <td>11124.0</td>\n",
       "      <td>1</td>\n",
       "    </tr>\n",
       "  </tbody>\n",
       "</table>\n",
       "</div>"
      ],
      "text/plain": [
       "     value  labels\n",
       "0     21.0       3\n",
       "1  12956.0       1\n",
       "2  17003.0       2\n",
       "3  14312.0       2\n",
       "4  11124.0       1"
      ]
     },
     "execution_count": 44,
     "metadata": {},
     "output_type": "execute_result"
    }
   ],
   "source": [
    "rez = pd.DataFrame({\"value\": data_for_problem_3.flatten(), \"labels\": labels})\n",
    "rez.head()"
   ]
  },
  {
   "cell_type": "code",
   "execution_count": 45,
   "metadata": {},
   "outputs": [
    {
     "data": {
      "text/plain": [
       "<matplotlib.axes._subplots.AxesSubplot at 0x7f4a770c0278>"
      ]
     },
     "execution_count": 45,
     "metadata": {},
     "output_type": "execute_result"
    },
    {
     "data": {
      "image/png": "[encoded data removed]",
      "text/plain": [
       "<Figure size 432x288 with 1 Axes>"
      ]
     },
     "metadata": {
      "needs_background": "light"
     },
     "output_type": "display_data"
    }
   ],
   "source": [
    "sns.scatterplot(x=rez.index, y='value', data=rez, hue='labels')"
   ]
  },
  {
   "cell_type": "code",
   "execution_count": 46,
   "metadata": {},
   "outputs": [
    {
     "data": {
      "text/html": [
       "<div>\n",
       "<style scoped>\n",
       "    .dataframe tbody tr th:only-of-type {\n",
       "        vertical-align: middle;\n",
       "    }\n",
       "\n",
       "    .dataframe tbody tr th {\n",
       "        vertical-align: top;\n",
       "    }\n",
       "\n",
       "    .dataframe thead th {\n",
       "        text-align: right;\n",
       "    }\n",
       "</style>\n",
       "<table border=\"1\" class=\"dataframe\">\n",
       "  <thead>\n",
       "    <tr style=\"text-align: right;\">\n",
       "      <th></th>\n",
       "      <th>value</th>\n",
       "    </tr>\n",
       "    <tr>\n",
       "      <th>labels</th>\n",
       "      <th></th>\n",
       "    </tr>\n",
       "  </thead>\n",
       "  <tbody>\n",
       "    <tr>\n",
       "      <th>0</th>\n",
       "      <td>11</td>\n",
       "    </tr>\n",
       "    <tr>\n",
       "      <th>1</th>\n",
       "      <td>38</td>\n",
       "    </tr>\n",
       "    <tr>\n",
       "      <th>2</th>\n",
       "      <td>39</td>\n",
       "    </tr>\n",
       "    <tr>\n",
       "      <th>3</th>\n",
       "      <td>12</td>\n",
       "    </tr>\n",
       "    <tr>\n",
       "      <th>4</th>\n",
       "      <td>5</td>\n",
       "    </tr>\n",
       "  </tbody>\n",
       "</table>\n",
       "</div>"
      ],
      "text/plain": [
       "        value\n",
       "labels       \n",
       "0          11\n",
       "1          38\n",
       "2          39\n",
       "3          12\n",
       "4           5"
      ]
     },
     "execution_count": 46,
     "metadata": {},
     "output_type": "execute_result"
    }
   ],
   "source": [
    "grouped = rez.groupby(by='labels').count()\n",
    "grouped"
   ]
  },
  {
   "cell_type": "code",
   "execution_count": 47,
   "metadata": {},
   "outputs": [
    {
     "name": "stdout",
     "output_type": "stream",
     "text": [
      "This model shows approx. 16.19% of the data is 'unusual'.\n"
     ]
    }
   ],
   "source": [
    "num_all = grouped.sum()[0]\n",
    "\n",
    "grouped = grouped.iloc[0:3]\n",
    "\n",
    "num_normal = grouped.sum()[0]\n",
    "\n",
    "num_not_normal = num_all - num_normal\n",
    "\n",
    "print(\"This model shows approx. {:.2f}% of the data is 'unusual'.\".format(num_not_normal * 100 / num_all))"
   ]
  },
  {
   "cell_type": "markdown",
   "metadata": {},
   "source": [
    "So, in my opinion, if we use k-means with 5 clusters, we will get more accurate model for checking \"unusual behaviour\". You can see the numbers, which say, what are the chances for the day to become \"unusual\". It is ~40% for 3 cluster and ~16% for 5 clusters."
   ]
  },
  {
   "attachments": {
    "image.png": {
     "image/png": "[encoded data removed]"
    }
   },
   "cell_type": "markdown",
   "metadata": {},
   "source": [
    "![image.png](attachment:image.png)"
   ]
  },
  {
   "cell_type": "markdown",
   "metadata": {},
   "source": [
    "People are more likely to say that 16% is \"unusual\", than 40%.\n",
    "\n",
    "So, the resulting model that we choose is **k-means with 5 clusters**.\n",
    "\n",
    "Here is the function for predicting result for new data points."
   ]
  },
  {
   "cell_type": "code",
   "execution_count": 48,
   "metadata": {},
   "outputs": [],
   "source": [
    "def predict(model, val, max_class, min_class):\n",
    "    c = model.predict(np.array(val).reshape(-1, 1))\n",
    "    if c == max_class or c == min_class:\n",
    "        return \"unusual\"\n",
    "    else:\n",
    "        return \"normal\""
   ]
  },
  {
   "cell_type": "code",
   "execution_count": 49,
   "metadata": {},
   "outputs": [
    {
     "name": "stdout",
     "output_type": "stream",
     "text": [
      "Class with very high values - 4.\n",
      "Class with very low values - 3.\n"
     ]
    }
   ],
   "source": [
    "max_class, min_class = 0, 0\n",
    "max_val, min_val = -1000000.0, 1000000.0\n",
    "\n",
    "for curr_class in range(model.n_clusters):\n",
    "    curr_max = np.max(rez.loc[rez[\"labels\"] == curr_class][\"value\"])\n",
    "    curr_min = np.min(rez.loc[rez[\"labels\"] == curr_class][\"value\"])\n",
    "\n",
    "    if curr_max > max_val:\n",
    "        max_val = curr_max\n",
    "        max_class = curr_class\n",
    "    if curr_min < min_val:\n",
    "        min_val = curr_min\n",
    "        min_class = curr_class\n",
    "\n",
    "print(\"Class with very high values - {}.\\n\"\n",
    "      \"Class with very low values - {}.\".format(max_class, min_class))"
   ]
  },
  {
   "cell_type": "code",
   "execution_count": 50,
   "metadata": {},
   "outputs": [
    {
     "name": "stdout",
     "output_type": "stream",
     "text": [
      "Test #1: number of steps = 6660 => unusual day.\n",
      "Test #2: number of steps = 21000 => normal day.\n",
      "Test #3: number of steps = 25000 => unusual day.\n"
     ]
    }
   ],
   "source": [
    "# Test examples of steps during the day.\n",
    "tests = [6660, 21000, 25000]\n",
    "\n",
    "for i in range(len(tests)):\n",
    "    print(\"Test #{}: number of steps = {} => {} day.\".format(i+1, tests[i], \n",
    "                                                             predict(model, tests[i], max_class, min_class)))"
   ]
  },
  {
   "cell_type": "code",
   "execution_count": null,
   "metadata": {},
   "outputs": [],
   "source": []
  }
 ],
 "metadata": {
  "kernelspec": {
   "display_name": "Python 3",
   "language": "python",
   "name": "python3"
  },
  "language_info": {
   "codemirror_mode": {
    "name": "ipython",
    "version": 3
   },
   "file_extension": ".py",
   "mimetype": "text/x-python",
   "name": "python",
   "nbconvert_exporter": "python",
   "pygments_lexer": "ipython3",
   "version": "3.7.3"
  }
 },
 "nbformat": 4,
 "nbformat_minor": 2
}
